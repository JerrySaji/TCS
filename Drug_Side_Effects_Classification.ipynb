{
  "nbformat": 4,
  "nbformat_minor": 0,
  "metadata": {
    "colab": {
      "provenance": [],
      "gpuType": "T4"
    },
    "kernelspec": {
      "name": "python3",
      "display_name": "Python 3"
    },
    "language_info": {
      "name": "python"
    },
    "accelerator": "GPU"
  },
  "cells": [
    {
      "cell_type": "markdown",
      "source": [
        "# **Drug Side Effects Classification using Machine Learning**\n",
        "\n",
        "---"
      ],
      "metadata": {
        "id": "PUKCh-2BMaEg"
      }
    },
    {
      "cell_type": "code",
      "execution_count": 1,
      "metadata": {
        "id": "Z-_YF5_WfgrI"
      },
      "outputs": [],
      "source": [
        "import numpy as np\n",
        "import pandas as pd\n",
        "import matplotlib.pyplot as plt\n",
        "import seaborn as sns\n",
        "from sklearn.metrics import accuracy_score, confusion_matrix\n",
        "import warnings\n",
        "warnings.simplefilter(action = 'ignore', category = FutureWarning)\n",
        "warnings.simplefilter(action = 'ignore', category = UserWarning)"
      ]
    },
    {
      "cell_type": "code",
      "source": [
        "data = pd.read_csv(r\"/content/drive/MyDrive/drug_dataset.csv\")"
      ],
      "metadata": {
        "id": "sHVL6GlXfiFm"
      },
      "execution_count": 2,
      "outputs": []
    },
    {
      "cell_type": "markdown",
      "source": [
        "\n",
        "\n",
        "## **Data Understanding**"
      ],
      "metadata": {
        "id": "glQBmburgJQo"
      }
    },
    {
      "cell_type": "code",
      "source": [
        "data.head()"
      ],
      "metadata": {
        "colab": {
          "base_uri": "https://localhost:8080/",
          "height": 293
        },
        "id": "-WmMHup0gR4e",
        "outputId": "6a22eb83-6d7d-4d4f-bd83-c44ef8a5bbdc"
      },
      "execution_count": 3,
      "outputs": [
        {
          "output_type": "execute_result",
          "data": {
            "text/plain": [
              "          Age      Condition       Date                          Drug  DrugId  \\\n",
              "0  75 or over    Stuffy Nose  9/21/2014                  25dph-7.5peh  146724   \n",
              "1       25-34  Cold Symptoms  1/13/2011                  25dph-7.5peh  146724   \n",
              "2       65-74          Other  7/16/2012  warfarin (bulk) 100 % powder  144731   \n",
              "3  75 or over          Other  9/23/2010  warfarin (bulk) 100 % powder  144731   \n",
              "4       35-44          Other   1/6/2009  warfarin (bulk) 100 % powder  144731   \n",
              "\n",
              "   EaseofUse  Effectiveness  \\\n",
              "0          5              5   \n",
              "1          5              5   \n",
              "2          2              3   \n",
              "3          2              2   \n",
              "4          1              1   \n",
              "\n",
              "                                             Reviews  Satisfaction     Sex  \\\n",
              "0  I'm a retired physician and of all the meds I ...             5    Male   \n",
              "1  cleared me right up even with my throat hurtin...             5  Female   \n",
              "2  why did my PTINR go from a normal of 2.5 to ov...             3  Female   \n",
              "3                       FALLING AND DON'T REALISE IT             1  Female   \n",
              "4  My grandfather was prescribed this medication ...             1    Male   \n",
              "\n",
              "                                               Sides  UsefulCount  \n",
              "0  Drowsiness,  dizziness ,  dry mouth /nose/thro...            0  \n",
              "1  Drowsiness,  dizziness ,  dry mouth /nose/thro...            1  \n",
              "2                                                               0  \n",
              "3                                                               0  \n",
              "4                                                               1  "
            ],
            "text/html": [
              "\n",
              "  <div id=\"df-bc60ddfc-ca94-42d1-8778-3d4004c5aea5\" class=\"colab-df-container\">\n",
              "    <div>\n",
              "<style scoped>\n",
              "    .dataframe tbody tr th:only-of-type {\n",
              "        vertical-align: middle;\n",
              "    }\n",
              "\n",
              "    .dataframe tbody tr th {\n",
              "        vertical-align: top;\n",
              "    }\n",
              "\n",
              "    .dataframe thead th {\n",
              "        text-align: right;\n",
              "    }\n",
              "</style>\n",
              "<table border=\"1\" class=\"dataframe\">\n",
              "  <thead>\n",
              "    <tr style=\"text-align: right;\">\n",
              "      <th></th>\n",
              "      <th>Age</th>\n",
              "      <th>Condition</th>\n",
              "      <th>Date</th>\n",
              "      <th>Drug</th>\n",
              "      <th>DrugId</th>\n",
              "      <th>EaseofUse</th>\n",
              "      <th>Effectiveness</th>\n",
              "      <th>Reviews</th>\n",
              "      <th>Satisfaction</th>\n",
              "      <th>Sex</th>\n",
              "      <th>Sides</th>\n",
              "      <th>UsefulCount</th>\n",
              "    </tr>\n",
              "  </thead>\n",
              "  <tbody>\n",
              "    <tr>\n",
              "      <th>0</th>\n",
              "      <td>75 or over</td>\n",
              "      <td>Stuffy Nose</td>\n",
              "      <td>9/21/2014</td>\n",
              "      <td>25dph-7.5peh</td>\n",
              "      <td>146724</td>\n",
              "      <td>5</td>\n",
              "      <td>5</td>\n",
              "      <td>I'm a retired physician and of all the meds I ...</td>\n",
              "      <td>5</td>\n",
              "      <td>Male</td>\n",
              "      <td>Drowsiness,  dizziness ,  dry mouth /nose/thro...</td>\n",
              "      <td>0</td>\n",
              "    </tr>\n",
              "    <tr>\n",
              "      <th>1</th>\n",
              "      <td>25-34</td>\n",
              "      <td>Cold Symptoms</td>\n",
              "      <td>1/13/2011</td>\n",
              "      <td>25dph-7.5peh</td>\n",
              "      <td>146724</td>\n",
              "      <td>5</td>\n",
              "      <td>5</td>\n",
              "      <td>cleared me right up even with my throat hurtin...</td>\n",
              "      <td>5</td>\n",
              "      <td>Female</td>\n",
              "      <td>Drowsiness,  dizziness ,  dry mouth /nose/thro...</td>\n",
              "      <td>1</td>\n",
              "    </tr>\n",
              "    <tr>\n",
              "      <th>2</th>\n",
              "      <td>65-74</td>\n",
              "      <td>Other</td>\n",
              "      <td>7/16/2012</td>\n",
              "      <td>warfarin (bulk) 100 % powder</td>\n",
              "      <td>144731</td>\n",
              "      <td>2</td>\n",
              "      <td>3</td>\n",
              "      <td>why did my PTINR go from a normal of 2.5 to ov...</td>\n",
              "      <td>3</td>\n",
              "      <td>Female</td>\n",
              "      <td></td>\n",
              "      <td>0</td>\n",
              "    </tr>\n",
              "    <tr>\n",
              "      <th>3</th>\n",
              "      <td>75 or over</td>\n",
              "      <td>Other</td>\n",
              "      <td>9/23/2010</td>\n",
              "      <td>warfarin (bulk) 100 % powder</td>\n",
              "      <td>144731</td>\n",
              "      <td>2</td>\n",
              "      <td>2</td>\n",
              "      <td>FALLING AND DON'T REALISE IT</td>\n",
              "      <td>1</td>\n",
              "      <td>Female</td>\n",
              "      <td></td>\n",
              "      <td>0</td>\n",
              "    </tr>\n",
              "    <tr>\n",
              "      <th>4</th>\n",
              "      <td>35-44</td>\n",
              "      <td>Other</td>\n",
              "      <td>1/6/2009</td>\n",
              "      <td>warfarin (bulk) 100 % powder</td>\n",
              "      <td>144731</td>\n",
              "      <td>1</td>\n",
              "      <td>1</td>\n",
              "      <td>My grandfather was prescribed this medication ...</td>\n",
              "      <td>1</td>\n",
              "      <td>Male</td>\n",
              "      <td></td>\n",
              "      <td>1</td>\n",
              "    </tr>\n",
              "  </tbody>\n",
              "</table>\n",
              "</div>\n",
              "    <div class=\"colab-df-buttons\">\n",
              "\n",
              "  <div class=\"colab-df-container\">\n",
              "    <button class=\"colab-df-convert\" onclick=\"convertToInteractive('df-bc60ddfc-ca94-42d1-8778-3d4004c5aea5')\"\n",
              "            title=\"Convert this dataframe to an interactive table.\"\n",
              "            style=\"display:none;\">\n",
              "\n",
              "  <svg xmlns=\"http://www.w3.org/2000/svg\" height=\"24px\" viewBox=\"0 -960 960 960\">\n",
              "    <path d=\"M120-120v-720h720v720H120Zm60-500h600v-160H180v160Zm220 220h160v-160H400v160Zm0 220h160v-160H400v160ZM180-400h160v-160H180v160Zm440 0h160v-160H620v160ZM180-180h160v-160H180v160Zm440 0h160v-160H620v160Z\"/>\n",
              "  </svg>\n",
              "    </button>\n",
              "\n",
              "  <style>\n",
              "    .colab-df-container {\n",
              "      display:flex;\n",
              "      gap: 12px;\n",
              "    }\n",
              "\n",
              "    .colab-df-convert {\n",
              "      background-color: #E8F0FE;\n",
              "      border: none;\n",
              "      border-radius: 50%;\n",
              "      cursor: pointer;\n",
              "      display: none;\n",
              "      fill: #1967D2;\n",
              "      height: 32px;\n",
              "      padding: 0 0 0 0;\n",
              "      width: 32px;\n",
              "    }\n",
              "\n",
              "    .colab-df-convert:hover {\n",
              "      background-color: #E2EBFA;\n",
              "      box-shadow: 0px 1px 2px rgba(60, 64, 67, 0.3), 0px 1px 3px 1px rgba(60, 64, 67, 0.15);\n",
              "      fill: #174EA6;\n",
              "    }\n",
              "\n",
              "    .colab-df-buttons div {\n",
              "      margin-bottom: 4px;\n",
              "    }\n",
              "\n",
              "    [theme=dark] .colab-df-convert {\n",
              "      background-color: #3B4455;\n",
              "      fill: #D2E3FC;\n",
              "    }\n",
              "\n",
              "    [theme=dark] .colab-df-convert:hover {\n",
              "      background-color: #434B5C;\n",
              "      box-shadow: 0px 1px 3px 1px rgba(0, 0, 0, 0.15);\n",
              "      filter: drop-shadow(0px 1px 2px rgba(0, 0, 0, 0.3));\n",
              "      fill: #FFFFFF;\n",
              "    }\n",
              "  </style>\n",
              "\n",
              "    <script>\n",
              "      const buttonEl =\n",
              "        document.querySelector('#df-bc60ddfc-ca94-42d1-8778-3d4004c5aea5 button.colab-df-convert');\n",
              "      buttonEl.style.display =\n",
              "        google.colab.kernel.accessAllowed ? 'block' : 'none';\n",
              "\n",
              "      async function convertToInteractive(key) {\n",
              "        const element = document.querySelector('#df-bc60ddfc-ca94-42d1-8778-3d4004c5aea5');\n",
              "        const dataTable =\n",
              "          await google.colab.kernel.invokeFunction('convertToInteractive',\n",
              "                                                    [key], {});\n",
              "        if (!dataTable) return;\n",
              "\n",
              "        const docLinkHtml = 'Like what you see? Visit the ' +\n",
              "          '<a target=\"_blank\" href=https://colab.research.google.com/notebooks/data_table.ipynb>data table notebook</a>'\n",
              "          + ' to learn more about interactive tables.';\n",
              "        element.innerHTML = '';\n",
              "        dataTable['output_type'] = 'display_data';\n",
              "        await google.colab.output.renderOutput(dataTable, element);\n",
              "        const docLink = document.createElement('div');\n",
              "        docLink.innerHTML = docLinkHtml;\n",
              "        element.appendChild(docLink);\n",
              "      }\n",
              "    </script>\n",
              "  </div>\n",
              "\n",
              "\n",
              "<div id=\"df-83defdbe-8f2e-4042-969d-2423b7ba7d2c\">\n",
              "  <button class=\"colab-df-quickchart\" onclick=\"quickchart('df-83defdbe-8f2e-4042-969d-2423b7ba7d2c')\"\n",
              "            title=\"Suggest charts.\"\n",
              "            style=\"display:none;\">\n",
              "\n",
              "<svg xmlns=\"http://www.w3.org/2000/svg\" height=\"24px\"viewBox=\"0 0 24 24\"\n",
              "     width=\"24px\">\n",
              "    <g>\n",
              "        <path d=\"M19 3H5c-1.1 0-2 .9-2 2v14c0 1.1.9 2 2 2h14c1.1 0 2-.9 2-2V5c0-1.1-.9-2-2-2zM9 17H7v-7h2v7zm4 0h-2V7h2v10zm4 0h-2v-4h2v4z\"/>\n",
              "    </g>\n",
              "</svg>\n",
              "  </button>\n",
              "\n",
              "<style>\n",
              "  .colab-df-quickchart {\n",
              "      --bg-color: #E8F0FE;\n",
              "      --fill-color: #1967D2;\n",
              "      --hover-bg-color: #E2EBFA;\n",
              "      --hover-fill-color: #174EA6;\n",
              "      --disabled-fill-color: #AAA;\n",
              "      --disabled-bg-color: #DDD;\n",
              "  }\n",
              "\n",
              "  [theme=dark] .colab-df-quickchart {\n",
              "      --bg-color: #3B4455;\n",
              "      --fill-color: #D2E3FC;\n",
              "      --hover-bg-color: #434B5C;\n",
              "      --hover-fill-color: #FFFFFF;\n",
              "      --disabled-bg-color: #3B4455;\n",
              "      --disabled-fill-color: #666;\n",
              "  }\n",
              "\n",
              "  .colab-df-quickchart {\n",
              "    background-color: var(--bg-color);\n",
              "    border: none;\n",
              "    border-radius: 50%;\n",
              "    cursor: pointer;\n",
              "    display: none;\n",
              "    fill: var(--fill-color);\n",
              "    height: 32px;\n",
              "    padding: 0;\n",
              "    width: 32px;\n",
              "  }\n",
              "\n",
              "  .colab-df-quickchart:hover {\n",
              "    background-color: var(--hover-bg-color);\n",
              "    box-shadow: 0 1px 2px rgba(60, 64, 67, 0.3), 0 1px 3px 1px rgba(60, 64, 67, 0.15);\n",
              "    fill: var(--button-hover-fill-color);\n",
              "  }\n",
              "\n",
              "  .colab-df-quickchart-complete:disabled,\n",
              "  .colab-df-quickchart-complete:disabled:hover {\n",
              "    background-color: var(--disabled-bg-color);\n",
              "    fill: var(--disabled-fill-color);\n",
              "    box-shadow: none;\n",
              "  }\n",
              "\n",
              "  .colab-df-spinner {\n",
              "    border: 2px solid var(--fill-color);\n",
              "    border-color: transparent;\n",
              "    border-bottom-color: var(--fill-color);\n",
              "    animation:\n",
              "      spin 1s steps(1) infinite;\n",
              "  }\n",
              "\n",
              "  @keyframes spin {\n",
              "    0% {\n",
              "      border-color: transparent;\n",
              "      border-bottom-color: var(--fill-color);\n",
              "      border-left-color: var(--fill-color);\n",
              "    }\n",
              "    20% {\n",
              "      border-color: transparent;\n",
              "      border-left-color: var(--fill-color);\n",
              "      border-top-color: var(--fill-color);\n",
              "    }\n",
              "    30% {\n",
              "      border-color: transparent;\n",
              "      border-left-color: var(--fill-color);\n",
              "      border-top-color: var(--fill-color);\n",
              "      border-right-color: var(--fill-color);\n",
              "    }\n",
              "    40% {\n",
              "      border-color: transparent;\n",
              "      border-right-color: var(--fill-color);\n",
              "      border-top-color: var(--fill-color);\n",
              "    }\n",
              "    60% {\n",
              "      border-color: transparent;\n",
              "      border-right-color: var(--fill-color);\n",
              "    }\n",
              "    80% {\n",
              "      border-color: transparent;\n",
              "      border-right-color: var(--fill-color);\n",
              "      border-bottom-color: var(--fill-color);\n",
              "    }\n",
              "    90% {\n",
              "      border-color: transparent;\n",
              "      border-bottom-color: var(--fill-color);\n",
              "    }\n",
              "  }\n",
              "</style>\n",
              "\n",
              "  <script>\n",
              "    async function quickchart(key) {\n",
              "      const quickchartButtonEl =\n",
              "        document.querySelector('#' + key + ' button');\n",
              "      quickchartButtonEl.disabled = true;  // To prevent multiple clicks.\n",
              "      quickchartButtonEl.classList.add('colab-df-spinner');\n",
              "      try {\n",
              "        const charts = await google.colab.kernel.invokeFunction(\n",
              "            'suggestCharts', [key], {});\n",
              "      } catch (error) {\n",
              "        console.error('Error during call to suggestCharts:', error);\n",
              "      }\n",
              "      quickchartButtonEl.classList.remove('colab-df-spinner');\n",
              "      quickchartButtonEl.classList.add('colab-df-quickchart-complete');\n",
              "    }\n",
              "    (() => {\n",
              "      let quickchartButtonEl =\n",
              "        document.querySelector('#df-83defdbe-8f2e-4042-969d-2423b7ba7d2c button');\n",
              "      quickchartButtonEl.style.display =\n",
              "        google.colab.kernel.accessAllowed ? 'block' : 'none';\n",
              "    })();\n",
              "  </script>\n",
              "</div>\n",
              "    </div>\n",
              "  </div>\n"
            ]
          },
          "metadata": {},
          "execution_count": 3
        }
      ]
    },
    {
      "cell_type": "markdown",
      "source": [
        " **Description of columns in the dataset**\n",
        "\n",
        "Name : Name of the patient\n",
        "\n",
        "Race : Race of the patient\n",
        "\n",
        "Age : Age of the patient\n",
        "\n",
        "Condition : Condition/symptom from which the patient is suffering\n",
        "\n",
        "Date : Date of usage\n",
        "\n",
        "Drug : Name of the drug\n",
        "\n",
        "DrugId : Identity/code of drug\n",
        "\n",
        "EaseofUse : Patient's 5-Star rating on the ease of use of drug\n",
        "\n",
        "Effectiveness : Patient's 5-Star rating on the effectiveness of drug\n",
        "\n",
        "Reviews : Patient's review\n",
        "\n",
        "Satisfaction : Patient's 5-Star rating on satisfaction\n",
        "\n",
        "Sex : Gender of the patient\n",
        "\n",
        "Sides : Side effects of the drug\n",
        "\n",
        "UsefulCount : Number of users who found the review useful"
      ],
      "metadata": {
        "id": "FO9JvPACjom0"
      }
    },
    {
      "cell_type": "code",
      "source": [
        "data.shape"
      ],
      "metadata": {
        "colab": {
          "base_uri": "https://localhost:8080/"
        },
        "id": "tTYE8KmYgTr7",
        "outputId": "26a3fb07-7e65-42b3-9e7f-4fdd728cc5af"
      },
      "execution_count": 4,
      "outputs": [
        {
          "output_type": "execute_result",
          "data": {
            "text/plain": [
              "(362806, 12)"
            ]
          },
          "metadata": {},
          "execution_count": 4
        }
      ]
    },
    {
      "cell_type": "code",
      "source": [
        "data.columns"
      ],
      "metadata": {
        "colab": {
          "base_uri": "https://localhost:8080/"
        },
        "id": "J8ES4Ubrgcaw",
        "outputId": "ccd97102-f408-47a6-a4d1-545759f46ffe"
      },
      "execution_count": 5,
      "outputs": [
        {
          "output_type": "execute_result",
          "data": {
            "text/plain": [
              "Index(['Age', 'Condition', 'Date', 'Drug', 'DrugId', 'EaseofUse',\n",
              "       'Effectiveness', 'Reviews', 'Satisfaction', 'Sex', 'Sides',\n",
              "       'UsefulCount'],\n",
              "      dtype='object')"
            ]
          },
          "metadata": {},
          "execution_count": 5
        }
      ]
    },
    {
      "cell_type": "code",
      "source": [
        "data.info()"
      ],
      "metadata": {
        "colab": {
          "base_uri": "https://localhost:8080/"
        },
        "id": "Tyrr78tGiL9c",
        "outputId": "e6fa329c-3617-49ed-aead-c5949c29da38"
      },
      "execution_count": 6,
      "outputs": [
        {
          "output_type": "stream",
          "name": "stdout",
          "text": [
            "<class 'pandas.core.frame.DataFrame'>\n",
            "RangeIndex: 362806 entries, 0 to 362805\n",
            "Data columns (total 12 columns):\n",
            " #   Column         Non-Null Count   Dtype \n",
            "---  ------         --------------   ----- \n",
            " 0   Age            362806 non-null  object\n",
            " 1   Condition      362806 non-null  object\n",
            " 2   Date           362806 non-null  object\n",
            " 3   Drug           362806 non-null  object\n",
            " 4   DrugId         362806 non-null  int64 \n",
            " 5   EaseofUse      362806 non-null  int64 \n",
            " 6   Effectiveness  362806 non-null  int64 \n",
            " 7   Reviews        362769 non-null  object\n",
            " 8   Satisfaction   362806 non-null  int64 \n",
            " 9   Sex            362806 non-null  object\n",
            " 10  Sides          362806 non-null  object\n",
            " 11  UsefulCount    362806 non-null  int64 \n",
            "dtypes: int64(5), object(7)\n",
            "memory usage: 33.2+ MB\n"
          ]
        }
      ]
    },
    {
      "cell_type": "markdown",
      "source": [
        "Numerical Columns:\n",
        "\n",
        "- 'DrugID' is an integer datatype column representing unique identifiers.\n",
        "\n",
        "- 'EaseofUse', 'Effectiveness' and 'Satisfaction' are integer datatype columns with a 5-star rating."
      ],
      "metadata": {
        "id": "BVS7EMpjx7C2"
      }
    },
    {
      "cell_type": "code",
      "source": [
        "data.describe()"
      ],
      "metadata": {
        "id": "WwOmFRcSqmmH",
        "colab": {
          "base_uri": "https://localhost:8080/",
          "height": 300
        },
        "outputId": "ebcfef18-092d-47ae-e73d-03097b9f7e10"
      },
      "execution_count": 7,
      "outputs": [
        {
          "output_type": "execute_result",
          "data": {
            "text/plain": [
              "              DrugId      EaseofUse  Effectiveness   Satisfaction  \\\n",
              "count  362806.000000  362806.000000  362806.000000  362806.000000   \n",
              "mean    36879.370774       4.019829       3.532061       3.135408   \n",
              "std     52624.412971       1.317711       1.455961       1.611106   \n",
              "min         1.000000       1.000000       1.000000       1.000000   \n",
              "25%      4896.000000       3.000000       3.000000       1.000000   \n",
              "50%      9548.000000       5.000000       4.000000       3.000000   \n",
              "75%     63522.000000       5.000000       5.000000       5.000000   \n",
              "max    178546.000000      10.000000      10.000000      10.000000   \n",
              "\n",
              "         UsefulCount  \n",
              "count  362806.000000  \n",
              "mean        6.744916  \n",
              "std         9.324240  \n",
              "min         0.000000  \n",
              "25%         1.000000  \n",
              "50%         4.000000  \n",
              "75%         9.000000  \n",
              "max       255.000000  "
            ],
            "text/html": [
              "\n",
              "  <div id=\"df-a626d2f1-5333-4f11-ac98-a6d54c1b4e56\" class=\"colab-df-container\">\n",
              "    <div>\n",
              "<style scoped>\n",
              "    .dataframe tbody tr th:only-of-type {\n",
              "        vertical-align: middle;\n",
              "    }\n",
              "\n",
              "    .dataframe tbody tr th {\n",
              "        vertical-align: top;\n",
              "    }\n",
              "\n",
              "    .dataframe thead th {\n",
              "        text-align: right;\n",
              "    }\n",
              "</style>\n",
              "<table border=\"1\" class=\"dataframe\">\n",
              "  <thead>\n",
              "    <tr style=\"text-align: right;\">\n",
              "      <th></th>\n",
              "      <th>DrugId</th>\n",
              "      <th>EaseofUse</th>\n",
              "      <th>Effectiveness</th>\n",
              "      <th>Satisfaction</th>\n",
              "      <th>UsefulCount</th>\n",
              "    </tr>\n",
              "  </thead>\n",
              "  <tbody>\n",
              "    <tr>\n",
              "      <th>count</th>\n",
              "      <td>362806.000000</td>\n",
              "      <td>362806.000000</td>\n",
              "      <td>362806.000000</td>\n",
              "      <td>362806.000000</td>\n",
              "      <td>362806.000000</td>\n",
              "    </tr>\n",
              "    <tr>\n",
              "      <th>mean</th>\n",
              "      <td>36879.370774</td>\n",
              "      <td>4.019829</td>\n",
              "      <td>3.532061</td>\n",
              "      <td>3.135408</td>\n",
              "      <td>6.744916</td>\n",
              "    </tr>\n",
              "    <tr>\n",
              "      <th>std</th>\n",
              "      <td>52624.412971</td>\n",
              "      <td>1.317711</td>\n",
              "      <td>1.455961</td>\n",
              "      <td>1.611106</td>\n",
              "      <td>9.324240</td>\n",
              "    </tr>\n",
              "    <tr>\n",
              "      <th>min</th>\n",
              "      <td>1.000000</td>\n",
              "      <td>1.000000</td>\n",
              "      <td>1.000000</td>\n",
              "      <td>1.000000</td>\n",
              "      <td>0.000000</td>\n",
              "    </tr>\n",
              "    <tr>\n",
              "      <th>25%</th>\n",
              "      <td>4896.000000</td>\n",
              "      <td>3.000000</td>\n",
              "      <td>3.000000</td>\n",
              "      <td>1.000000</td>\n",
              "      <td>1.000000</td>\n",
              "    </tr>\n",
              "    <tr>\n",
              "      <th>50%</th>\n",
              "      <td>9548.000000</td>\n",
              "      <td>5.000000</td>\n",
              "      <td>4.000000</td>\n",
              "      <td>3.000000</td>\n",
              "      <td>4.000000</td>\n",
              "    </tr>\n",
              "    <tr>\n",
              "      <th>75%</th>\n",
              "      <td>63522.000000</td>\n",
              "      <td>5.000000</td>\n",
              "      <td>5.000000</td>\n",
              "      <td>5.000000</td>\n",
              "      <td>9.000000</td>\n",
              "    </tr>\n",
              "    <tr>\n",
              "      <th>max</th>\n",
              "      <td>178546.000000</td>\n",
              "      <td>10.000000</td>\n",
              "      <td>10.000000</td>\n",
              "      <td>10.000000</td>\n",
              "      <td>255.000000</td>\n",
              "    </tr>\n",
              "  </tbody>\n",
              "</table>\n",
              "</div>\n",
              "    <div class=\"colab-df-buttons\">\n",
              "\n",
              "  <div class=\"colab-df-container\">\n",
              "    <button class=\"colab-df-convert\" onclick=\"convertToInteractive('df-a626d2f1-5333-4f11-ac98-a6d54c1b4e56')\"\n",
              "            title=\"Convert this dataframe to an interactive table.\"\n",
              "            style=\"display:none;\">\n",
              "\n",
              "  <svg xmlns=\"http://www.w3.org/2000/svg\" height=\"24px\" viewBox=\"0 -960 960 960\">\n",
              "    <path d=\"M120-120v-720h720v720H120Zm60-500h600v-160H180v160Zm220 220h160v-160H400v160Zm0 220h160v-160H400v160ZM180-400h160v-160H180v160Zm440 0h160v-160H620v160ZM180-180h160v-160H180v160Zm440 0h160v-160H620v160Z\"/>\n",
              "  </svg>\n",
              "    </button>\n",
              "\n",
              "  <style>\n",
              "    .colab-df-container {\n",
              "      display:flex;\n",
              "      gap: 12px;\n",
              "    }\n",
              "\n",
              "    .colab-df-convert {\n",
              "      background-color: #E8F0FE;\n",
              "      border: none;\n",
              "      border-radius: 50%;\n",
              "      cursor: pointer;\n",
              "      display: none;\n",
              "      fill: #1967D2;\n",
              "      height: 32px;\n",
              "      padding: 0 0 0 0;\n",
              "      width: 32px;\n",
              "    }\n",
              "\n",
              "    .colab-df-convert:hover {\n",
              "      background-color: #E2EBFA;\n",
              "      box-shadow: 0px 1px 2px rgba(60, 64, 67, 0.3), 0px 1px 3px 1px rgba(60, 64, 67, 0.15);\n",
              "      fill: #174EA6;\n",
              "    }\n",
              "\n",
              "    .colab-df-buttons div {\n",
              "      margin-bottom: 4px;\n",
              "    }\n",
              "\n",
              "    [theme=dark] .colab-df-convert {\n",
              "      background-color: #3B4455;\n",
              "      fill: #D2E3FC;\n",
              "    }\n",
              "\n",
              "    [theme=dark] .colab-df-convert:hover {\n",
              "      background-color: #434B5C;\n",
              "      box-shadow: 0px 1px 3px 1px rgba(0, 0, 0, 0.15);\n",
              "      filter: drop-shadow(0px 1px 2px rgba(0, 0, 0, 0.3));\n",
              "      fill: #FFFFFF;\n",
              "    }\n",
              "  </style>\n",
              "\n",
              "    <script>\n",
              "      const buttonEl =\n",
              "        document.querySelector('#df-a626d2f1-5333-4f11-ac98-a6d54c1b4e56 button.colab-df-convert');\n",
              "      buttonEl.style.display =\n",
              "        google.colab.kernel.accessAllowed ? 'block' : 'none';\n",
              "\n",
              "      async function convertToInteractive(key) {\n",
              "        const element = document.querySelector('#df-a626d2f1-5333-4f11-ac98-a6d54c1b4e56');\n",
              "        const dataTable =\n",
              "          await google.colab.kernel.invokeFunction('convertToInteractive',\n",
              "                                                    [key], {});\n",
              "        if (!dataTable) return;\n",
              "\n",
              "        const docLinkHtml = 'Like what you see? Visit the ' +\n",
              "          '<a target=\"_blank\" href=https://colab.research.google.com/notebooks/data_table.ipynb>data table notebook</a>'\n",
              "          + ' to learn more about interactive tables.';\n",
              "        element.innerHTML = '';\n",
              "        dataTable['output_type'] = 'display_data';\n",
              "        await google.colab.output.renderOutput(dataTable, element);\n",
              "        const docLink = document.createElement('div');\n",
              "        docLink.innerHTML = docLinkHtml;\n",
              "        element.appendChild(docLink);\n",
              "      }\n",
              "    </script>\n",
              "  </div>\n",
              "\n",
              "\n",
              "<div id=\"df-d1a50e3d-dcfa-4bd6-a0d8-d3b256461793\">\n",
              "  <button class=\"colab-df-quickchart\" onclick=\"quickchart('df-d1a50e3d-dcfa-4bd6-a0d8-d3b256461793')\"\n",
              "            title=\"Suggest charts.\"\n",
              "            style=\"display:none;\">\n",
              "\n",
              "<svg xmlns=\"http://www.w3.org/2000/svg\" height=\"24px\"viewBox=\"0 0 24 24\"\n",
              "     width=\"24px\">\n",
              "    <g>\n",
              "        <path d=\"M19 3H5c-1.1 0-2 .9-2 2v14c0 1.1.9 2 2 2h14c1.1 0 2-.9 2-2V5c0-1.1-.9-2-2-2zM9 17H7v-7h2v7zm4 0h-2V7h2v10zm4 0h-2v-4h2v4z\"/>\n",
              "    </g>\n",
              "</svg>\n",
              "  </button>\n",
              "\n",
              "<style>\n",
              "  .colab-df-quickchart {\n",
              "      --bg-color: #E8F0FE;\n",
              "      --fill-color: #1967D2;\n",
              "      --hover-bg-color: #E2EBFA;\n",
              "      --hover-fill-color: #174EA6;\n",
              "      --disabled-fill-color: #AAA;\n",
              "      --disabled-bg-color: #DDD;\n",
              "  }\n",
              "\n",
              "  [theme=dark] .colab-df-quickchart {\n",
              "      --bg-color: #3B4455;\n",
              "      --fill-color: #D2E3FC;\n",
              "      --hover-bg-color: #434B5C;\n",
              "      --hover-fill-color: #FFFFFF;\n",
              "      --disabled-bg-color: #3B4455;\n",
              "      --disabled-fill-color: #666;\n",
              "  }\n",
              "\n",
              "  .colab-df-quickchart {\n",
              "    background-color: var(--bg-color);\n",
              "    border: none;\n",
              "    border-radius: 50%;\n",
              "    cursor: pointer;\n",
              "    display: none;\n",
              "    fill: var(--fill-color);\n",
              "    height: 32px;\n",
              "    padding: 0;\n",
              "    width: 32px;\n",
              "  }\n",
              "\n",
              "  .colab-df-quickchart:hover {\n",
              "    background-color: var(--hover-bg-color);\n",
              "    box-shadow: 0 1px 2px rgba(60, 64, 67, 0.3), 0 1px 3px 1px rgba(60, 64, 67, 0.15);\n",
              "    fill: var(--button-hover-fill-color);\n",
              "  }\n",
              "\n",
              "  .colab-df-quickchart-complete:disabled,\n",
              "  .colab-df-quickchart-complete:disabled:hover {\n",
              "    background-color: var(--disabled-bg-color);\n",
              "    fill: var(--disabled-fill-color);\n",
              "    box-shadow: none;\n",
              "  }\n",
              "\n",
              "  .colab-df-spinner {\n",
              "    border: 2px solid var(--fill-color);\n",
              "    border-color: transparent;\n",
              "    border-bottom-color: var(--fill-color);\n",
              "    animation:\n",
              "      spin 1s steps(1) infinite;\n",
              "  }\n",
              "\n",
              "  @keyframes spin {\n",
              "    0% {\n",
              "      border-color: transparent;\n",
              "      border-bottom-color: var(--fill-color);\n",
              "      border-left-color: var(--fill-color);\n",
              "    }\n",
              "    20% {\n",
              "      border-color: transparent;\n",
              "      border-left-color: var(--fill-color);\n",
              "      border-top-color: var(--fill-color);\n",
              "    }\n",
              "    30% {\n",
              "      border-color: transparent;\n",
              "      border-left-color: var(--fill-color);\n",
              "      border-top-color: var(--fill-color);\n",
              "      border-right-color: var(--fill-color);\n",
              "    }\n",
              "    40% {\n",
              "      border-color: transparent;\n",
              "      border-right-color: var(--fill-color);\n",
              "      border-top-color: var(--fill-color);\n",
              "    }\n",
              "    60% {\n",
              "      border-color: transparent;\n",
              "      border-right-color: var(--fill-color);\n",
              "    }\n",
              "    80% {\n",
              "      border-color: transparent;\n",
              "      border-right-color: var(--fill-color);\n",
              "      border-bottom-color: var(--fill-color);\n",
              "    }\n",
              "    90% {\n",
              "      border-color: transparent;\n",
              "      border-bottom-color: var(--fill-color);\n",
              "    }\n",
              "  }\n",
              "</style>\n",
              "\n",
              "  <script>\n",
              "    async function quickchart(key) {\n",
              "      const quickchartButtonEl =\n",
              "        document.querySelector('#' + key + ' button');\n",
              "      quickchartButtonEl.disabled = true;  // To prevent multiple clicks.\n",
              "      quickchartButtonEl.classList.add('colab-df-spinner');\n",
              "      try {\n",
              "        const charts = await google.colab.kernel.invokeFunction(\n",
              "            'suggestCharts', [key], {});\n",
              "      } catch (error) {\n",
              "        console.error('Error during call to suggestCharts:', error);\n",
              "      }\n",
              "      quickchartButtonEl.classList.remove('colab-df-spinner');\n",
              "      quickchartButtonEl.classList.add('colab-df-quickchart-complete');\n",
              "    }\n",
              "    (() => {\n",
              "      let quickchartButtonEl =\n",
              "        document.querySelector('#df-d1a50e3d-dcfa-4bd6-a0d8-d3b256461793 button');\n",
              "      quickchartButtonEl.style.display =\n",
              "        google.colab.kernel.accessAllowed ? 'block' : 'none';\n",
              "    })();\n",
              "  </script>\n",
              "</div>\n",
              "    </div>\n",
              "  </div>\n"
            ]
          },
          "metadata": {},
          "execution_count": 7
        }
      ]
    },
    {
      "cell_type": "markdown",
      "source": [
        "#### **Name and race column addition**"
      ],
      "metadata": {
        "id": "j6Bmmikm2E7o"
      }
    },
    {
      "cell_type": "markdown",
      "source": [
        "Mimesis is a robust data generator for Python, capable of rapidly producing large volumes of synthetic data for various use cases."
      ],
      "metadata": {
        "id": "12upIVbR2zvo"
      }
    },
    {
      "cell_type": "code",
      "source": [
        "pip install mimesis"
      ],
      "metadata": {
        "colab": {
          "base_uri": "https://localhost:8080/"
        },
        "id": "ks05OUIY12eh",
        "outputId": "decc1666-55da-40ef-fc6a-9ea7b8bf9b7e"
      },
      "execution_count": 8,
      "outputs": [
        {
          "output_type": "stream",
          "name": "stdout",
          "text": [
            "Requirement already satisfied: mimesis in /usr/local/lib/python3.10/dist-packages (11.1.0)\n"
          ]
        }
      ]
    },
    {
      "cell_type": "markdown",
      "source": [
        "Giving random names to each users using the library 'mimesis'"
      ],
      "metadata": {
        "id": "GnfhAg0Y6gB8"
      }
    },
    {
      "cell_type": "code",
      "source": [
        "from mimesis import Person\n",
        "person = Person('en')\n",
        "\n",
        "name = []\n",
        "for i in range(0,362806):\n",
        "  name.append(person.name())\n",
        "\n",
        "data['Name'] = name\n",
        "\n",
        "#Positioning the 'Name' column as zeroth column\n",
        "col1 = data.pop('Name')\n",
        "data.insert(0, col1.name, col1)\n",
        "\n",
        "data.head()"
      ],
      "metadata": {
        "colab": {
          "base_uri": "https://localhost:8080/",
          "height": 293
        },
        "id": "9UQ6UlNX2yN3",
        "outputId": "7a683cc1-4af4-4803-c45c-74fb1d74e090"
      },
      "execution_count": 9,
      "outputs": [
        {
          "output_type": "execute_result",
          "data": {
            "text/plain": [
              "      Name         Age      Condition       Date  \\\n",
              "0     Stan  75 or over    Stuffy Nose  9/21/2014   \n",
              "1  Diamond       25-34  Cold Symptoms  1/13/2011   \n",
              "2    Brock       65-74          Other  7/16/2012   \n",
              "3  Maynard  75 or over          Other  9/23/2010   \n",
              "4  Roselee       35-44          Other   1/6/2009   \n",
              "\n",
              "                           Drug  DrugId  EaseofUse  Effectiveness  \\\n",
              "0                  25dph-7.5peh  146724          5              5   \n",
              "1                  25dph-7.5peh  146724          5              5   \n",
              "2  warfarin (bulk) 100 % powder  144731          2              3   \n",
              "3  warfarin (bulk) 100 % powder  144731          2              2   \n",
              "4  warfarin (bulk) 100 % powder  144731          1              1   \n",
              "\n",
              "                                             Reviews  Satisfaction     Sex  \\\n",
              "0  I'm a retired physician and of all the meds I ...             5    Male   \n",
              "1  cleared me right up even with my throat hurtin...             5  Female   \n",
              "2  why did my PTINR go from a normal of 2.5 to ov...             3  Female   \n",
              "3                       FALLING AND DON'T REALISE IT             1  Female   \n",
              "4  My grandfather was prescribed this medication ...             1    Male   \n",
              "\n",
              "                                               Sides  UsefulCount  \n",
              "0  Drowsiness,  dizziness ,  dry mouth /nose/thro...            0  \n",
              "1  Drowsiness,  dizziness ,  dry mouth /nose/thro...            1  \n",
              "2                                                               0  \n",
              "3                                                               0  \n",
              "4                                                               1  "
            ],
            "text/html": [
              "\n",
              "  <div id=\"df-0e262545-f0c8-4fb9-82cd-8b4f8ef08cff\" class=\"colab-df-container\">\n",
              "    <div>\n",
              "<style scoped>\n",
              "    .dataframe tbody tr th:only-of-type {\n",
              "        vertical-align: middle;\n",
              "    }\n",
              "\n",
              "    .dataframe tbody tr th {\n",
              "        vertical-align: top;\n",
              "    }\n",
              "\n",
              "    .dataframe thead th {\n",
              "        text-align: right;\n",
              "    }\n",
              "</style>\n",
              "<table border=\"1\" class=\"dataframe\">\n",
              "  <thead>\n",
              "    <tr style=\"text-align: right;\">\n",
              "      <th></th>\n",
              "      <th>Name</th>\n",
              "      <th>Age</th>\n",
              "      <th>Condition</th>\n",
              "      <th>Date</th>\n",
              "      <th>Drug</th>\n",
              "      <th>DrugId</th>\n",
              "      <th>EaseofUse</th>\n",
              "      <th>Effectiveness</th>\n",
              "      <th>Reviews</th>\n",
              "      <th>Satisfaction</th>\n",
              "      <th>Sex</th>\n",
              "      <th>Sides</th>\n",
              "      <th>UsefulCount</th>\n",
              "    </tr>\n",
              "  </thead>\n",
              "  <tbody>\n",
              "    <tr>\n",
              "      <th>0</th>\n",
              "      <td>Stan</td>\n",
              "      <td>75 or over</td>\n",
              "      <td>Stuffy Nose</td>\n",
              "      <td>9/21/2014</td>\n",
              "      <td>25dph-7.5peh</td>\n",
              "      <td>146724</td>\n",
              "      <td>5</td>\n",
              "      <td>5</td>\n",
              "      <td>I'm a retired physician and of all the meds I ...</td>\n",
              "      <td>5</td>\n",
              "      <td>Male</td>\n",
              "      <td>Drowsiness,  dizziness ,  dry mouth /nose/thro...</td>\n",
              "      <td>0</td>\n",
              "    </tr>\n",
              "    <tr>\n",
              "      <th>1</th>\n",
              "      <td>Diamond</td>\n",
              "      <td>25-34</td>\n",
              "      <td>Cold Symptoms</td>\n",
              "      <td>1/13/2011</td>\n",
              "      <td>25dph-7.5peh</td>\n",
              "      <td>146724</td>\n",
              "      <td>5</td>\n",
              "      <td>5</td>\n",
              "      <td>cleared me right up even with my throat hurtin...</td>\n",
              "      <td>5</td>\n",
              "      <td>Female</td>\n",
              "      <td>Drowsiness,  dizziness ,  dry mouth /nose/thro...</td>\n",
              "      <td>1</td>\n",
              "    </tr>\n",
              "    <tr>\n",
              "      <th>2</th>\n",
              "      <td>Brock</td>\n",
              "      <td>65-74</td>\n",
              "      <td>Other</td>\n",
              "      <td>7/16/2012</td>\n",
              "      <td>warfarin (bulk) 100 % powder</td>\n",
              "      <td>144731</td>\n",
              "      <td>2</td>\n",
              "      <td>3</td>\n",
              "      <td>why did my PTINR go from a normal of 2.5 to ov...</td>\n",
              "      <td>3</td>\n",
              "      <td>Female</td>\n",
              "      <td></td>\n",
              "      <td>0</td>\n",
              "    </tr>\n",
              "    <tr>\n",
              "      <th>3</th>\n",
              "      <td>Maynard</td>\n",
              "      <td>75 or over</td>\n",
              "      <td>Other</td>\n",
              "      <td>9/23/2010</td>\n",
              "      <td>warfarin (bulk) 100 % powder</td>\n",
              "      <td>144731</td>\n",
              "      <td>2</td>\n",
              "      <td>2</td>\n",
              "      <td>FALLING AND DON'T REALISE IT</td>\n",
              "      <td>1</td>\n",
              "      <td>Female</td>\n",
              "      <td></td>\n",
              "      <td>0</td>\n",
              "    </tr>\n",
              "    <tr>\n",
              "      <th>4</th>\n",
              "      <td>Roselee</td>\n",
              "      <td>35-44</td>\n",
              "      <td>Other</td>\n",
              "      <td>1/6/2009</td>\n",
              "      <td>warfarin (bulk) 100 % powder</td>\n",
              "      <td>144731</td>\n",
              "      <td>1</td>\n",
              "      <td>1</td>\n",
              "      <td>My grandfather was prescribed this medication ...</td>\n",
              "      <td>1</td>\n",
              "      <td>Male</td>\n",
              "      <td></td>\n",
              "      <td>1</td>\n",
              "    </tr>\n",
              "  </tbody>\n",
              "</table>\n",
              "</div>\n",
              "    <div class=\"colab-df-buttons\">\n",
              "\n",
              "  <div class=\"colab-df-container\">\n",
              "    <button class=\"colab-df-convert\" onclick=\"convertToInteractive('df-0e262545-f0c8-4fb9-82cd-8b4f8ef08cff')\"\n",
              "            title=\"Convert this dataframe to an interactive table.\"\n",
              "            style=\"display:none;\">\n",
              "\n",
              "  <svg xmlns=\"http://www.w3.org/2000/svg\" height=\"24px\" viewBox=\"0 -960 960 960\">\n",
              "    <path d=\"M120-120v-720h720v720H120Zm60-500h600v-160H180v160Zm220 220h160v-160H400v160Zm0 220h160v-160H400v160ZM180-400h160v-160H180v160Zm440 0h160v-160H620v160ZM180-180h160v-160H180v160Zm440 0h160v-160H620v160Z\"/>\n",
              "  </svg>\n",
              "    </button>\n",
              "\n",
              "  <style>\n",
              "    .colab-df-container {\n",
              "      display:flex;\n",
              "      gap: 12px;\n",
              "    }\n",
              "\n",
              "    .colab-df-convert {\n",
              "      background-color: #E8F0FE;\n",
              "      border: none;\n",
              "      border-radius: 50%;\n",
              "      cursor: pointer;\n",
              "      display: none;\n",
              "      fill: #1967D2;\n",
              "      height: 32px;\n",
              "      padding: 0 0 0 0;\n",
              "      width: 32px;\n",
              "    }\n",
              "\n",
              "    .colab-df-convert:hover {\n",
              "      background-color: #E2EBFA;\n",
              "      box-shadow: 0px 1px 2px rgba(60, 64, 67, 0.3), 0px 1px 3px 1px rgba(60, 64, 67, 0.15);\n",
              "      fill: #174EA6;\n",
              "    }\n",
              "\n",
              "    .colab-df-buttons div {\n",
              "      margin-bottom: 4px;\n",
              "    }\n",
              "\n",
              "    [theme=dark] .colab-df-convert {\n",
              "      background-color: #3B4455;\n",
              "      fill: #D2E3FC;\n",
              "    }\n",
              "\n",
              "    [theme=dark] .colab-df-convert:hover {\n",
              "      background-color: #434B5C;\n",
              "      box-shadow: 0px 1px 3px 1px rgba(0, 0, 0, 0.15);\n",
              "      filter: drop-shadow(0px 1px 2px rgba(0, 0, 0, 0.3));\n",
              "      fill: #FFFFFF;\n",
              "    }\n",
              "  </style>\n",
              "\n",
              "    <script>\n",
              "      const buttonEl =\n",
              "        document.querySelector('#df-0e262545-f0c8-4fb9-82cd-8b4f8ef08cff button.colab-df-convert');\n",
              "      buttonEl.style.display =\n",
              "        google.colab.kernel.accessAllowed ? 'block' : 'none';\n",
              "\n",
              "      async function convertToInteractive(key) {\n",
              "        const element = document.querySelector('#df-0e262545-f0c8-4fb9-82cd-8b4f8ef08cff');\n",
              "        const dataTable =\n",
              "          await google.colab.kernel.invokeFunction('convertToInteractive',\n",
              "                                                    [key], {});\n",
              "        if (!dataTable) return;\n",
              "\n",
              "        const docLinkHtml = 'Like what you see? Visit the ' +\n",
              "          '<a target=\"_blank\" href=https://colab.research.google.com/notebooks/data_table.ipynb>data table notebook</a>'\n",
              "          + ' to learn more about interactive tables.';\n",
              "        element.innerHTML = '';\n",
              "        dataTable['output_type'] = 'display_data';\n",
              "        await google.colab.output.renderOutput(dataTable, element);\n",
              "        const docLink = document.createElement('div');\n",
              "        docLink.innerHTML = docLinkHtml;\n",
              "        element.appendChild(docLink);\n",
              "      }\n",
              "    </script>\n",
              "  </div>\n",
              "\n",
              "\n",
              "<div id=\"df-a142b9c9-39c7-40cc-802a-8820bd2e5f27\">\n",
              "  <button class=\"colab-df-quickchart\" onclick=\"quickchart('df-a142b9c9-39c7-40cc-802a-8820bd2e5f27')\"\n",
              "            title=\"Suggest charts.\"\n",
              "            style=\"display:none;\">\n",
              "\n",
              "<svg xmlns=\"http://www.w3.org/2000/svg\" height=\"24px\"viewBox=\"0 0 24 24\"\n",
              "     width=\"24px\">\n",
              "    <g>\n",
              "        <path d=\"M19 3H5c-1.1 0-2 .9-2 2v14c0 1.1.9 2 2 2h14c1.1 0 2-.9 2-2V5c0-1.1-.9-2-2-2zM9 17H7v-7h2v7zm4 0h-2V7h2v10zm4 0h-2v-4h2v4z\"/>\n",
              "    </g>\n",
              "</svg>\n",
              "  </button>\n",
              "\n",
              "<style>\n",
              "  .colab-df-quickchart {\n",
              "      --bg-color: #E8F0FE;\n",
              "      --fill-color: #1967D2;\n",
              "      --hover-bg-color: #E2EBFA;\n",
              "      --hover-fill-color: #174EA6;\n",
              "      --disabled-fill-color: #AAA;\n",
              "      --disabled-bg-color: #DDD;\n",
              "  }\n",
              "\n",
              "  [theme=dark] .colab-df-quickchart {\n",
              "      --bg-color: #3B4455;\n",
              "      --fill-color: #D2E3FC;\n",
              "      --hover-bg-color: #434B5C;\n",
              "      --hover-fill-color: #FFFFFF;\n",
              "      --disabled-bg-color: #3B4455;\n",
              "      --disabled-fill-color: #666;\n",
              "  }\n",
              "\n",
              "  .colab-df-quickchart {\n",
              "    background-color: var(--bg-color);\n",
              "    border: none;\n",
              "    border-radius: 50%;\n",
              "    cursor: pointer;\n",
              "    display: none;\n",
              "    fill: var(--fill-color);\n",
              "    height: 32px;\n",
              "    padding: 0;\n",
              "    width: 32px;\n",
              "  }\n",
              "\n",
              "  .colab-df-quickchart:hover {\n",
              "    background-color: var(--hover-bg-color);\n",
              "    box-shadow: 0 1px 2px rgba(60, 64, 67, 0.3), 0 1px 3px 1px rgba(60, 64, 67, 0.15);\n",
              "    fill: var(--button-hover-fill-color);\n",
              "  }\n",
              "\n",
              "  .colab-df-quickchart-complete:disabled,\n",
              "  .colab-df-quickchart-complete:disabled:hover {\n",
              "    background-color: var(--disabled-bg-color);\n",
              "    fill: var(--disabled-fill-color);\n",
              "    box-shadow: none;\n",
              "  }\n",
              "\n",
              "  .colab-df-spinner {\n",
              "    border: 2px solid var(--fill-color);\n",
              "    border-color: transparent;\n",
              "    border-bottom-color: var(--fill-color);\n",
              "    animation:\n",
              "      spin 1s steps(1) infinite;\n",
              "  }\n",
              "\n",
              "  @keyframes spin {\n",
              "    0% {\n",
              "      border-color: transparent;\n",
              "      border-bottom-color: var(--fill-color);\n",
              "      border-left-color: var(--fill-color);\n",
              "    }\n",
              "    20% {\n",
              "      border-color: transparent;\n",
              "      border-left-color: var(--fill-color);\n",
              "      border-top-color: var(--fill-color);\n",
              "    }\n",
              "    30% {\n",
              "      border-color: transparent;\n",
              "      border-left-color: var(--fill-color);\n",
              "      border-top-color: var(--fill-color);\n",
              "      border-right-color: var(--fill-color);\n",
              "    }\n",
              "    40% {\n",
              "      border-color: transparent;\n",
              "      border-right-color: var(--fill-color);\n",
              "      border-top-color: var(--fill-color);\n",
              "    }\n",
              "    60% {\n",
              "      border-color: transparent;\n",
              "      border-right-color: var(--fill-color);\n",
              "    }\n",
              "    80% {\n",
              "      border-color: transparent;\n",
              "      border-right-color: var(--fill-color);\n",
              "      border-bottom-color: var(--fill-color);\n",
              "    }\n",
              "    90% {\n",
              "      border-color: transparent;\n",
              "      border-bottom-color: var(--fill-color);\n",
              "    }\n",
              "  }\n",
              "</style>\n",
              "\n",
              "  <script>\n",
              "    async function quickchart(key) {\n",
              "      const quickchartButtonEl =\n",
              "        document.querySelector('#' + key + ' button');\n",
              "      quickchartButtonEl.disabled = true;  // To prevent multiple clicks.\n",
              "      quickchartButtonEl.classList.add('colab-df-spinner');\n",
              "      try {\n",
              "        const charts = await google.colab.kernel.invokeFunction(\n",
              "            'suggestCharts', [key], {});\n",
              "      } catch (error) {\n",
              "        console.error('Error during call to suggestCharts:', error);\n",
              "      }\n",
              "      quickchartButtonEl.classList.remove('colab-df-spinner');\n",
              "      quickchartButtonEl.classList.add('colab-df-quickchart-complete');\n",
              "    }\n",
              "    (() => {\n",
              "      let quickchartButtonEl =\n",
              "        document.querySelector('#df-a142b9c9-39c7-40cc-802a-8820bd2e5f27 button');\n",
              "      quickchartButtonEl.style.display =\n",
              "        google.colab.kernel.accessAllowed ? 'block' : 'none';\n",
              "    })();\n",
              "  </script>\n",
              "</div>\n",
              "    </div>\n",
              "  </div>\n"
            ]
          },
          "metadata": {},
          "execution_count": 9
        }
      ]
    },
    {
      "cell_type": "markdown",
      "source": [
        "Randomly selecting races for each users."
      ],
      "metadata": {
        "id": "-2BwFnm86Wjf"
      }
    },
    {
      "cell_type": "code",
      "source": [
        "import random\n",
        "\n",
        "race = [\"White\", \"Hispanic\", \"Black\", \"Asian\", \"Australoid\"]\n",
        "words = random.choices(race, k = 362806)\n",
        "\n",
        "data['Race'] = words\n",
        "\n",
        "#Positioning the 'Race' column as first column\n",
        "col2 = data.pop('Race')\n",
        "data.insert(1, col2.name, col2)\n",
        "\n",
        "data.head()"
      ],
      "metadata": {
        "colab": {
          "base_uri": "https://localhost:8080/",
          "height": 327
        },
        "id": "ip1fT28na06q",
        "outputId": "e1acd0c3-5828-4d99-87bb-b3144a0790d7"
      },
      "execution_count": 10,
      "outputs": [
        {
          "output_type": "execute_result",
          "data": {
            "text/plain": [
              "      Name        Race         Age      Condition       Date  \\\n",
              "0     Stan  Australoid  75 or over    Stuffy Nose  9/21/2014   \n",
              "1  Diamond       White       25-34  Cold Symptoms  1/13/2011   \n",
              "2    Brock    Hispanic       65-74          Other  7/16/2012   \n",
              "3  Maynard  Australoid  75 or over          Other  9/23/2010   \n",
              "4  Roselee       Asian       35-44          Other   1/6/2009   \n",
              "\n",
              "                           Drug  DrugId  EaseofUse  Effectiveness  \\\n",
              "0                  25dph-7.5peh  146724          5              5   \n",
              "1                  25dph-7.5peh  146724          5              5   \n",
              "2  warfarin (bulk) 100 % powder  144731          2              3   \n",
              "3  warfarin (bulk) 100 % powder  144731          2              2   \n",
              "4  warfarin (bulk) 100 % powder  144731          1              1   \n",
              "\n",
              "                                             Reviews  Satisfaction     Sex  \\\n",
              "0  I'm a retired physician and of all the meds I ...             5    Male   \n",
              "1  cleared me right up even with my throat hurtin...             5  Female   \n",
              "2  why did my PTINR go from a normal of 2.5 to ov...             3  Female   \n",
              "3                       FALLING AND DON'T REALISE IT             1  Female   \n",
              "4  My grandfather was prescribed this medication ...             1    Male   \n",
              "\n",
              "                                               Sides  UsefulCount  \n",
              "0  Drowsiness,  dizziness ,  dry mouth /nose/thro...            0  \n",
              "1  Drowsiness,  dizziness ,  dry mouth /nose/thro...            1  \n",
              "2                                                               0  \n",
              "3                                                               0  \n",
              "4                                                               1  "
            ],
            "text/html": [
              "\n",
              "  <div id=\"df-e1a5b0a2-0a0a-4f38-90fc-e63d1aec0822\" class=\"colab-df-container\">\n",
              "    <div>\n",
              "<style scoped>\n",
              "    .dataframe tbody tr th:only-of-type {\n",
              "        vertical-align: middle;\n",
              "    }\n",
              "\n",
              "    .dataframe tbody tr th {\n",
              "        vertical-align: top;\n",
              "    }\n",
              "\n",
              "    .dataframe thead th {\n",
              "        text-align: right;\n",
              "    }\n",
              "</style>\n",
              "<table border=\"1\" class=\"dataframe\">\n",
              "  <thead>\n",
              "    <tr style=\"text-align: right;\">\n",
              "      <th></th>\n",
              "      <th>Name</th>\n",
              "      <th>Race</th>\n",
              "      <th>Age</th>\n",
              "      <th>Condition</th>\n",
              "      <th>Date</th>\n",
              "      <th>Drug</th>\n",
              "      <th>DrugId</th>\n",
              "      <th>EaseofUse</th>\n",
              "      <th>Effectiveness</th>\n",
              "      <th>Reviews</th>\n",
              "      <th>Satisfaction</th>\n",
              "      <th>Sex</th>\n",
              "      <th>Sides</th>\n",
              "      <th>UsefulCount</th>\n",
              "    </tr>\n",
              "  </thead>\n",
              "  <tbody>\n",
              "    <tr>\n",
              "      <th>0</th>\n",
              "      <td>Stan</td>\n",
              "      <td>Australoid</td>\n",
              "      <td>75 or over</td>\n",
              "      <td>Stuffy Nose</td>\n",
              "      <td>9/21/2014</td>\n",
              "      <td>25dph-7.5peh</td>\n",
              "      <td>146724</td>\n",
              "      <td>5</td>\n",
              "      <td>5</td>\n",
              "      <td>I'm a retired physician and of all the meds I ...</td>\n",
              "      <td>5</td>\n",
              "      <td>Male</td>\n",
              "      <td>Drowsiness,  dizziness ,  dry mouth /nose/thro...</td>\n",
              "      <td>0</td>\n",
              "    </tr>\n",
              "    <tr>\n",
              "      <th>1</th>\n",
              "      <td>Diamond</td>\n",
              "      <td>White</td>\n",
              "      <td>25-34</td>\n",
              "      <td>Cold Symptoms</td>\n",
              "      <td>1/13/2011</td>\n",
              "      <td>25dph-7.5peh</td>\n",
              "      <td>146724</td>\n",
              "      <td>5</td>\n",
              "      <td>5</td>\n",
              "      <td>cleared me right up even with my throat hurtin...</td>\n",
              "      <td>5</td>\n",
              "      <td>Female</td>\n",
              "      <td>Drowsiness,  dizziness ,  dry mouth /nose/thro...</td>\n",
              "      <td>1</td>\n",
              "    </tr>\n",
              "    <tr>\n",
              "      <th>2</th>\n",
              "      <td>Brock</td>\n",
              "      <td>Hispanic</td>\n",
              "      <td>65-74</td>\n",
              "      <td>Other</td>\n",
              "      <td>7/16/2012</td>\n",
              "      <td>warfarin (bulk) 100 % powder</td>\n",
              "      <td>144731</td>\n",
              "      <td>2</td>\n",
              "      <td>3</td>\n",
              "      <td>why did my PTINR go from a normal of 2.5 to ov...</td>\n",
              "      <td>3</td>\n",
              "      <td>Female</td>\n",
              "      <td></td>\n",
              "      <td>0</td>\n",
              "    </tr>\n",
              "    <tr>\n",
              "      <th>3</th>\n",
              "      <td>Maynard</td>\n",
              "      <td>Australoid</td>\n",
              "      <td>75 or over</td>\n",
              "      <td>Other</td>\n",
              "      <td>9/23/2010</td>\n",
              "      <td>warfarin (bulk) 100 % powder</td>\n",
              "      <td>144731</td>\n",
              "      <td>2</td>\n",
              "      <td>2</td>\n",
              "      <td>FALLING AND DON'T REALISE IT</td>\n",
              "      <td>1</td>\n",
              "      <td>Female</td>\n",
              "      <td></td>\n",
              "      <td>0</td>\n",
              "    </tr>\n",
              "    <tr>\n",
              "      <th>4</th>\n",
              "      <td>Roselee</td>\n",
              "      <td>Asian</td>\n",
              "      <td>35-44</td>\n",
              "      <td>Other</td>\n",
              "      <td>1/6/2009</td>\n",
              "      <td>warfarin (bulk) 100 % powder</td>\n",
              "      <td>144731</td>\n",
              "      <td>1</td>\n",
              "      <td>1</td>\n",
              "      <td>My grandfather was prescribed this medication ...</td>\n",
              "      <td>1</td>\n",
              "      <td>Male</td>\n",
              "      <td></td>\n",
              "      <td>1</td>\n",
              "    </tr>\n",
              "  </tbody>\n",
              "</table>\n",
              "</div>\n",
              "    <div class=\"colab-df-buttons\">\n",
              "\n",
              "  <div class=\"colab-df-container\">\n",
              "    <button class=\"colab-df-convert\" onclick=\"convertToInteractive('df-e1a5b0a2-0a0a-4f38-90fc-e63d1aec0822')\"\n",
              "            title=\"Convert this dataframe to an interactive table.\"\n",
              "            style=\"display:none;\">\n",
              "\n",
              "  <svg xmlns=\"http://www.w3.org/2000/svg\" height=\"24px\" viewBox=\"0 -960 960 960\">\n",
              "    <path d=\"M120-120v-720h720v720H120Zm60-500h600v-160H180v160Zm220 220h160v-160H400v160Zm0 220h160v-160H400v160ZM180-400h160v-160H180v160Zm440 0h160v-160H620v160ZM180-180h160v-160H180v160Zm440 0h160v-160H620v160Z\"/>\n",
              "  </svg>\n",
              "    </button>\n",
              "\n",
              "  <style>\n",
              "    .colab-df-container {\n",
              "      display:flex;\n",
              "      gap: 12px;\n",
              "    }\n",
              "\n",
              "    .colab-df-convert {\n",
              "      background-color: #E8F0FE;\n",
              "      border: none;\n",
              "      border-radius: 50%;\n",
              "      cursor: pointer;\n",
              "      display: none;\n",
              "      fill: #1967D2;\n",
              "      height: 32px;\n",
              "      padding: 0 0 0 0;\n",
              "      width: 32px;\n",
              "    }\n",
              "\n",
              "    .colab-df-convert:hover {\n",
              "      background-color: #E2EBFA;\n",
              "      box-shadow: 0px 1px 2px rgba(60, 64, 67, 0.3), 0px 1px 3px 1px rgba(60, 64, 67, 0.15);\n",
              "      fill: #174EA6;\n",
              "    }\n",
              "\n",
              "    .colab-df-buttons div {\n",
              "      margin-bottom: 4px;\n",
              "    }\n",
              "\n",
              "    [theme=dark] .colab-df-convert {\n",
              "      background-color: #3B4455;\n",
              "      fill: #D2E3FC;\n",
              "    }\n",
              "\n",
              "    [theme=dark] .colab-df-convert:hover {\n",
              "      background-color: #434B5C;\n",
              "      box-shadow: 0px 1px 3px 1px rgba(0, 0, 0, 0.15);\n",
              "      filter: drop-shadow(0px 1px 2px rgba(0, 0, 0, 0.3));\n",
              "      fill: #FFFFFF;\n",
              "    }\n",
              "  </style>\n",
              "\n",
              "    <script>\n",
              "      const buttonEl =\n",
              "        document.querySelector('#df-e1a5b0a2-0a0a-4f38-90fc-e63d1aec0822 button.colab-df-convert');\n",
              "      buttonEl.style.display =\n",
              "        google.colab.kernel.accessAllowed ? 'block' : 'none';\n",
              "\n",
              "      async function convertToInteractive(key) {\n",
              "        const element = document.querySelector('#df-e1a5b0a2-0a0a-4f38-90fc-e63d1aec0822');\n",
              "        const dataTable =\n",
              "          await google.colab.kernel.invokeFunction('convertToInteractive',\n",
              "                                                    [key], {});\n",
              "        if (!dataTable) return;\n",
              "\n",
              "        const docLinkHtml = 'Like what you see? Visit the ' +\n",
              "          '<a target=\"_blank\" href=https://colab.research.google.com/notebooks/data_table.ipynb>data table notebook</a>'\n",
              "          + ' to learn more about interactive tables.';\n",
              "        element.innerHTML = '';\n",
              "        dataTable['output_type'] = 'display_data';\n",
              "        await google.colab.output.renderOutput(dataTable, element);\n",
              "        const docLink = document.createElement('div');\n",
              "        docLink.innerHTML = docLinkHtml;\n",
              "        element.appendChild(docLink);\n",
              "      }\n",
              "    </script>\n",
              "  </div>\n",
              "\n",
              "\n",
              "<div id=\"df-b9dfbf7f-ad78-457d-828b-af7c36053350\">\n",
              "  <button class=\"colab-df-quickchart\" onclick=\"quickchart('df-b9dfbf7f-ad78-457d-828b-af7c36053350')\"\n",
              "            title=\"Suggest charts.\"\n",
              "            style=\"display:none;\">\n",
              "\n",
              "<svg xmlns=\"http://www.w3.org/2000/svg\" height=\"24px\"viewBox=\"0 0 24 24\"\n",
              "     width=\"24px\">\n",
              "    <g>\n",
              "        <path d=\"M19 3H5c-1.1 0-2 .9-2 2v14c0 1.1.9 2 2 2h14c1.1 0 2-.9 2-2V5c0-1.1-.9-2-2-2zM9 17H7v-7h2v7zm4 0h-2V7h2v10zm4 0h-2v-4h2v4z\"/>\n",
              "    </g>\n",
              "</svg>\n",
              "  </button>\n",
              "\n",
              "<style>\n",
              "  .colab-df-quickchart {\n",
              "      --bg-color: #E8F0FE;\n",
              "      --fill-color: #1967D2;\n",
              "      --hover-bg-color: #E2EBFA;\n",
              "      --hover-fill-color: #174EA6;\n",
              "      --disabled-fill-color: #AAA;\n",
              "      --disabled-bg-color: #DDD;\n",
              "  }\n",
              "\n",
              "  [theme=dark] .colab-df-quickchart {\n",
              "      --bg-color: #3B4455;\n",
              "      --fill-color: #D2E3FC;\n",
              "      --hover-bg-color: #434B5C;\n",
              "      --hover-fill-color: #FFFFFF;\n",
              "      --disabled-bg-color: #3B4455;\n",
              "      --disabled-fill-color: #666;\n",
              "  }\n",
              "\n",
              "  .colab-df-quickchart {\n",
              "    background-color: var(--bg-color);\n",
              "    border: none;\n",
              "    border-radius: 50%;\n",
              "    cursor: pointer;\n",
              "    display: none;\n",
              "    fill: var(--fill-color);\n",
              "    height: 32px;\n",
              "    padding: 0;\n",
              "    width: 32px;\n",
              "  }\n",
              "\n",
              "  .colab-df-quickchart:hover {\n",
              "    background-color: var(--hover-bg-color);\n",
              "    box-shadow: 0 1px 2px rgba(60, 64, 67, 0.3), 0 1px 3px 1px rgba(60, 64, 67, 0.15);\n",
              "    fill: var(--button-hover-fill-color);\n",
              "  }\n",
              "\n",
              "  .colab-df-quickchart-complete:disabled,\n",
              "  .colab-df-quickchart-complete:disabled:hover {\n",
              "    background-color: var(--disabled-bg-color);\n",
              "    fill: var(--disabled-fill-color);\n",
              "    box-shadow: none;\n",
              "  }\n",
              "\n",
              "  .colab-df-spinner {\n",
              "    border: 2px solid var(--fill-color);\n",
              "    border-color: transparent;\n",
              "    border-bottom-color: var(--fill-color);\n",
              "    animation:\n",
              "      spin 1s steps(1) infinite;\n",
              "  }\n",
              "\n",
              "  @keyframes spin {\n",
              "    0% {\n",
              "      border-color: transparent;\n",
              "      border-bottom-color: var(--fill-color);\n",
              "      border-left-color: var(--fill-color);\n",
              "    }\n",
              "    20% {\n",
              "      border-color: transparent;\n",
              "      border-left-color: var(--fill-color);\n",
              "      border-top-color: var(--fill-color);\n",
              "    }\n",
              "    30% {\n",
              "      border-color: transparent;\n",
              "      border-left-color: var(--fill-color);\n",
              "      border-top-color: var(--fill-color);\n",
              "      border-right-color: var(--fill-color);\n",
              "    }\n",
              "    40% {\n",
              "      border-color: transparent;\n",
              "      border-right-color: var(--fill-color);\n",
              "      border-top-color: var(--fill-color);\n",
              "    }\n",
              "    60% {\n",
              "      border-color: transparent;\n",
              "      border-right-color: var(--fill-color);\n",
              "    }\n",
              "    80% {\n",
              "      border-color: transparent;\n",
              "      border-right-color: var(--fill-color);\n",
              "      border-bottom-color: var(--fill-color);\n",
              "    }\n",
              "    90% {\n",
              "      border-color: transparent;\n",
              "      border-bottom-color: var(--fill-color);\n",
              "    }\n",
              "  }\n",
              "</style>\n",
              "\n",
              "  <script>\n",
              "    async function quickchart(key) {\n",
              "      const quickchartButtonEl =\n",
              "        document.querySelector('#' + key + ' button');\n",
              "      quickchartButtonEl.disabled = true;  // To prevent multiple clicks.\n",
              "      quickchartButtonEl.classList.add('colab-df-spinner');\n",
              "      try {\n",
              "        const charts = await google.colab.kernel.invokeFunction(\n",
              "            'suggestCharts', [key], {});\n",
              "      } catch (error) {\n",
              "        console.error('Error during call to suggestCharts:', error);\n",
              "      }\n",
              "      quickchartButtonEl.classList.remove('colab-df-spinner');\n",
              "      quickchartButtonEl.classList.add('colab-df-quickchart-complete');\n",
              "    }\n",
              "    (() => {\n",
              "      let quickchartButtonEl =\n",
              "        document.querySelector('#df-b9dfbf7f-ad78-457d-828b-af7c36053350 button');\n",
              "      quickchartButtonEl.style.display =\n",
              "        google.colab.kernel.accessAllowed ? 'block' : 'none';\n",
              "    })();\n",
              "  </script>\n",
              "</div>\n",
              "    </div>\n",
              "  </div>\n"
            ]
          },
          "metadata": {},
          "execution_count": 10
        }
      ]
    },
    {
      "cell_type": "markdown",
      "source": [
        "#### **Year Column**"
      ],
      "metadata": {
        "id": "RhiXe9-kXGym"
      }
    },
    {
      "cell_type": "code",
      "source": [
        "#Create a new colum 'Year' in which the year from date is given\n",
        "data['Date'] = pd.to_datetime(data['Date'])\n",
        "data['Year'] = data['Date'].apply(lambda x:x.year)"
      ],
      "metadata": {
        "id": "XDJtu2PePbII"
      },
      "execution_count": 11,
      "outputs": []
    },
    {
      "cell_type": "markdown",
      "source": [
        "### **The DrugId 6873 represents the drugs 'lisinopril' and 'lisinopril solution'. It can be selected to build a classification model to determine side effects**"
      ],
      "metadata": {
        "id": "a2zRcfLVzf8l"
      }
    },
    {
      "cell_type": "code",
      "source": [
        "data2 = data[data.DrugId == 6873].reset_index()\n",
        "data2.head()"
      ],
      "metadata": {
        "colab": {
          "base_uri": "https://localhost:8080/",
          "height": 379
        },
        "id": "0leKhRLRzh8z",
        "outputId": "a2df6cbc-cc89-47ee-adde-5d4dc68ce9c3"
      },
      "execution_count": 12,
      "outputs": [
        {
          "output_type": "execute_result",
          "data": {
            "text/plain": [
              "   index     Name        Race         Age            Condition       Date  \\\n",
              "0   9197     Luci    Hispanic              High Blood Pressure 2020-02-29   \n",
              "1   9203     Keva  Australoid  75 or over  High Blood Pressure 2020-02-08   \n",
              "2   9209  Clayton  Australoid       55-64  High Blood Pressure 2020-01-14   \n",
              "3   9215   Tanner       Asian       65-74  High Blood Pressure 2019-10-17   \n",
              "4   9221   Dudley       Asian       55-64  High Blood Pressure 2019-10-13   \n",
              "\n",
              "                  Drug  DrugId  EaseofUse  Effectiveness  \\\n",
              "0  lisinopril solution    6873          5              5   \n",
              "1  lisinopril solution    6873          5              4   \n",
              "2  lisinopril solution    6873          4              5   \n",
              "3  lisinopril solution    6873          5              5   \n",
              "4  lisinopril solution    6873          2              4   \n",
              "\n",
              "                                             Reviews  Satisfaction     Sex  \\\n",
              "0  No Script or health Insurance needed to place ...             5           \n",
              "1  I have developed a very itch rash on my body f...             4  Female   \n",
              "2  tried alternative medicine Beet root, hibiscus...             4    Male   \n",
              "3  Have been taking 10 mg doses per day for over ...             5    Male   \n",
              "4  I don't like that I'm taking this and not know...             2    Male   \n",
              "\n",
              "                                               Sides  UsefulCount  Year  \n",
              "0  Dizziness ,  lightheadedness , tiredness, or  ...           14  2020  \n",
              "1  Dizziness ,  lightheadedness , tiredness, or  ...            3  2020  \n",
              "2  Dizziness ,  lightheadedness , tiredness, or  ...            3  2020  \n",
              "3  Dizziness ,  lightheadedness , tiredness, or  ...            6  2019  \n",
              "4  Dizziness ,  lightheadedness , tiredness, or  ...           12  2019  "
            ],
            "text/html": [
              "\n",
              "  <div id=\"df-4e40ce9e-c589-4a20-b78b-89f96c1e0fdb\" class=\"colab-df-container\">\n",
              "    <div>\n",
              "<style scoped>\n",
              "    .dataframe tbody tr th:only-of-type {\n",
              "        vertical-align: middle;\n",
              "    }\n",
              "\n",
              "    .dataframe tbody tr th {\n",
              "        vertical-align: top;\n",
              "    }\n",
              "\n",
              "    .dataframe thead th {\n",
              "        text-align: right;\n",
              "    }\n",
              "</style>\n",
              "<table border=\"1\" class=\"dataframe\">\n",
              "  <thead>\n",
              "    <tr style=\"text-align: right;\">\n",
              "      <th></th>\n",
              "      <th>index</th>\n",
              "      <th>Name</th>\n",
              "      <th>Race</th>\n",
              "      <th>Age</th>\n",
              "      <th>Condition</th>\n",
              "      <th>Date</th>\n",
              "      <th>Drug</th>\n",
              "      <th>DrugId</th>\n",
              "      <th>EaseofUse</th>\n",
              "      <th>Effectiveness</th>\n",
              "      <th>Reviews</th>\n",
              "      <th>Satisfaction</th>\n",
              "      <th>Sex</th>\n",
              "      <th>Sides</th>\n",
              "      <th>UsefulCount</th>\n",
              "      <th>Year</th>\n",
              "    </tr>\n",
              "  </thead>\n",
              "  <tbody>\n",
              "    <tr>\n",
              "      <th>0</th>\n",
              "      <td>9197</td>\n",
              "      <td>Luci</td>\n",
              "      <td>Hispanic</td>\n",
              "      <td></td>\n",
              "      <td>High Blood Pressure</td>\n",
              "      <td>2020-02-29</td>\n",
              "      <td>lisinopril solution</td>\n",
              "      <td>6873</td>\n",
              "      <td>5</td>\n",
              "      <td>5</td>\n",
              "      <td>No Script or health Insurance needed to place ...</td>\n",
              "      <td>5</td>\n",
              "      <td></td>\n",
              "      <td>Dizziness ,  lightheadedness , tiredness, or  ...</td>\n",
              "      <td>14</td>\n",
              "      <td>2020</td>\n",
              "    </tr>\n",
              "    <tr>\n",
              "      <th>1</th>\n",
              "      <td>9203</td>\n",
              "      <td>Keva</td>\n",
              "      <td>Australoid</td>\n",
              "      <td>75 or over</td>\n",
              "      <td>High Blood Pressure</td>\n",
              "      <td>2020-02-08</td>\n",
              "      <td>lisinopril solution</td>\n",
              "      <td>6873</td>\n",
              "      <td>5</td>\n",
              "      <td>4</td>\n",
              "      <td>I have developed a very itch rash on my body f...</td>\n",
              "      <td>4</td>\n",
              "      <td>Female</td>\n",
              "      <td>Dizziness ,  lightheadedness , tiredness, or  ...</td>\n",
              "      <td>3</td>\n",
              "      <td>2020</td>\n",
              "    </tr>\n",
              "    <tr>\n",
              "      <th>2</th>\n",
              "      <td>9209</td>\n",
              "      <td>Clayton</td>\n",
              "      <td>Australoid</td>\n",
              "      <td>55-64</td>\n",
              "      <td>High Blood Pressure</td>\n",
              "      <td>2020-01-14</td>\n",
              "      <td>lisinopril solution</td>\n",
              "      <td>6873</td>\n",
              "      <td>4</td>\n",
              "      <td>5</td>\n",
              "      <td>tried alternative medicine Beet root, hibiscus...</td>\n",
              "      <td>4</td>\n",
              "      <td>Male</td>\n",
              "      <td>Dizziness ,  lightheadedness , tiredness, or  ...</td>\n",
              "      <td>3</td>\n",
              "      <td>2020</td>\n",
              "    </tr>\n",
              "    <tr>\n",
              "      <th>3</th>\n",
              "      <td>9215</td>\n",
              "      <td>Tanner</td>\n",
              "      <td>Asian</td>\n",
              "      <td>65-74</td>\n",
              "      <td>High Blood Pressure</td>\n",
              "      <td>2019-10-17</td>\n",
              "      <td>lisinopril solution</td>\n",
              "      <td>6873</td>\n",
              "      <td>5</td>\n",
              "      <td>5</td>\n",
              "      <td>Have been taking 10 mg doses per day for over ...</td>\n",
              "      <td>5</td>\n",
              "      <td>Male</td>\n",
              "      <td>Dizziness ,  lightheadedness , tiredness, or  ...</td>\n",
              "      <td>6</td>\n",
              "      <td>2019</td>\n",
              "    </tr>\n",
              "    <tr>\n",
              "      <th>4</th>\n",
              "      <td>9221</td>\n",
              "      <td>Dudley</td>\n",
              "      <td>Asian</td>\n",
              "      <td>55-64</td>\n",
              "      <td>High Blood Pressure</td>\n",
              "      <td>2019-10-13</td>\n",
              "      <td>lisinopril solution</td>\n",
              "      <td>6873</td>\n",
              "      <td>2</td>\n",
              "      <td>4</td>\n",
              "      <td>I don't like that I'm taking this and not know...</td>\n",
              "      <td>2</td>\n",
              "      <td>Male</td>\n",
              "      <td>Dizziness ,  lightheadedness , tiredness, or  ...</td>\n",
              "      <td>12</td>\n",
              "      <td>2019</td>\n",
              "    </tr>\n",
              "  </tbody>\n",
              "</table>\n",
              "</div>\n",
              "    <div class=\"colab-df-buttons\">\n",
              "\n",
              "  <div class=\"colab-df-container\">\n",
              "    <button class=\"colab-df-convert\" onclick=\"convertToInteractive('df-4e40ce9e-c589-4a20-b78b-89f96c1e0fdb')\"\n",
              "            title=\"Convert this dataframe to an interactive table.\"\n",
              "            style=\"display:none;\">\n",
              "\n",
              "  <svg xmlns=\"http://www.w3.org/2000/svg\" height=\"24px\" viewBox=\"0 -960 960 960\">\n",
              "    <path d=\"M120-120v-720h720v720H120Zm60-500h600v-160H180v160Zm220 220h160v-160H400v160Zm0 220h160v-160H400v160ZM180-400h160v-160H180v160Zm440 0h160v-160H620v160ZM180-180h160v-160H180v160Zm440 0h160v-160H620v160Z\"/>\n",
              "  </svg>\n",
              "    </button>\n",
              "\n",
              "  <style>\n",
              "    .colab-df-container {\n",
              "      display:flex;\n",
              "      gap: 12px;\n",
              "    }\n",
              "\n",
              "    .colab-df-convert {\n",
              "      background-color: #E8F0FE;\n",
              "      border: none;\n",
              "      border-radius: 50%;\n",
              "      cursor: pointer;\n",
              "      display: none;\n",
              "      fill: #1967D2;\n",
              "      height: 32px;\n",
              "      padding: 0 0 0 0;\n",
              "      width: 32px;\n",
              "    }\n",
              "\n",
              "    .colab-df-convert:hover {\n",
              "      background-color: #E2EBFA;\n",
              "      box-shadow: 0px 1px 2px rgba(60, 64, 67, 0.3), 0px 1px 3px 1px rgba(60, 64, 67, 0.15);\n",
              "      fill: #174EA6;\n",
              "    }\n",
              "\n",
              "    .colab-df-buttons div {\n",
              "      margin-bottom: 4px;\n",
              "    }\n",
              "\n",
              "    [theme=dark] .colab-df-convert {\n",
              "      background-color: #3B4455;\n",
              "      fill: #D2E3FC;\n",
              "    }\n",
              "\n",
              "    [theme=dark] .colab-df-convert:hover {\n",
              "      background-color: #434B5C;\n",
              "      box-shadow: 0px 1px 3px 1px rgba(0, 0, 0, 0.15);\n",
              "      filter: drop-shadow(0px 1px 2px rgba(0, 0, 0, 0.3));\n",
              "      fill: #FFFFFF;\n",
              "    }\n",
              "  </style>\n",
              "\n",
              "    <script>\n",
              "      const buttonEl =\n",
              "        document.querySelector('#df-4e40ce9e-c589-4a20-b78b-89f96c1e0fdb button.colab-df-convert');\n",
              "      buttonEl.style.display =\n",
              "        google.colab.kernel.accessAllowed ? 'block' : 'none';\n",
              "\n",
              "      async function convertToInteractive(key) {\n",
              "        const element = document.querySelector('#df-4e40ce9e-c589-4a20-b78b-89f96c1e0fdb');\n",
              "        const dataTable =\n",
              "          await google.colab.kernel.invokeFunction('convertToInteractive',\n",
              "                                                    [key], {});\n",
              "        if (!dataTable) return;\n",
              "\n",
              "        const docLinkHtml = 'Like what you see? Visit the ' +\n",
              "          '<a target=\"_blank\" href=https://colab.research.google.com/notebooks/data_table.ipynb>data table notebook</a>'\n",
              "          + ' to learn more about interactive tables.';\n",
              "        element.innerHTML = '';\n",
              "        dataTable['output_type'] = 'display_data';\n",
              "        await google.colab.output.renderOutput(dataTable, element);\n",
              "        const docLink = document.createElement('div');\n",
              "        docLink.innerHTML = docLinkHtml;\n",
              "        element.appendChild(docLink);\n",
              "      }\n",
              "    </script>\n",
              "  </div>\n",
              "\n",
              "\n",
              "<div id=\"df-f2d83d6b-c31d-401f-ab5c-35591b599c1f\">\n",
              "  <button class=\"colab-df-quickchart\" onclick=\"quickchart('df-f2d83d6b-c31d-401f-ab5c-35591b599c1f')\"\n",
              "            title=\"Suggest charts.\"\n",
              "            style=\"display:none;\">\n",
              "\n",
              "<svg xmlns=\"http://www.w3.org/2000/svg\" height=\"24px\"viewBox=\"0 0 24 24\"\n",
              "     width=\"24px\">\n",
              "    <g>\n",
              "        <path d=\"M19 3H5c-1.1 0-2 .9-2 2v14c0 1.1.9 2 2 2h14c1.1 0 2-.9 2-2V5c0-1.1-.9-2-2-2zM9 17H7v-7h2v7zm4 0h-2V7h2v10zm4 0h-2v-4h2v4z\"/>\n",
              "    </g>\n",
              "</svg>\n",
              "  </button>\n",
              "\n",
              "<style>\n",
              "  .colab-df-quickchart {\n",
              "      --bg-color: #E8F0FE;\n",
              "      --fill-color: #1967D2;\n",
              "      --hover-bg-color: #E2EBFA;\n",
              "      --hover-fill-color: #174EA6;\n",
              "      --disabled-fill-color: #AAA;\n",
              "      --disabled-bg-color: #DDD;\n",
              "  }\n",
              "\n",
              "  [theme=dark] .colab-df-quickchart {\n",
              "      --bg-color: #3B4455;\n",
              "      --fill-color: #D2E3FC;\n",
              "      --hover-bg-color: #434B5C;\n",
              "      --hover-fill-color: #FFFFFF;\n",
              "      --disabled-bg-color: #3B4455;\n",
              "      --disabled-fill-color: #666;\n",
              "  }\n",
              "\n",
              "  .colab-df-quickchart {\n",
              "    background-color: var(--bg-color);\n",
              "    border: none;\n",
              "    border-radius: 50%;\n",
              "    cursor: pointer;\n",
              "    display: none;\n",
              "    fill: var(--fill-color);\n",
              "    height: 32px;\n",
              "    padding: 0;\n",
              "    width: 32px;\n",
              "  }\n",
              "\n",
              "  .colab-df-quickchart:hover {\n",
              "    background-color: var(--hover-bg-color);\n",
              "    box-shadow: 0 1px 2px rgba(60, 64, 67, 0.3), 0 1px 3px 1px rgba(60, 64, 67, 0.15);\n",
              "    fill: var(--button-hover-fill-color);\n",
              "  }\n",
              "\n",
              "  .colab-df-quickchart-complete:disabled,\n",
              "  .colab-df-quickchart-complete:disabled:hover {\n",
              "    background-color: var(--disabled-bg-color);\n",
              "    fill: var(--disabled-fill-color);\n",
              "    box-shadow: none;\n",
              "  }\n",
              "\n",
              "  .colab-df-spinner {\n",
              "    border: 2px solid var(--fill-color);\n",
              "    border-color: transparent;\n",
              "    border-bottom-color: var(--fill-color);\n",
              "    animation:\n",
              "      spin 1s steps(1) infinite;\n",
              "  }\n",
              "\n",
              "  @keyframes spin {\n",
              "    0% {\n",
              "      border-color: transparent;\n",
              "      border-bottom-color: var(--fill-color);\n",
              "      border-left-color: var(--fill-color);\n",
              "    }\n",
              "    20% {\n",
              "      border-color: transparent;\n",
              "      border-left-color: var(--fill-color);\n",
              "      border-top-color: var(--fill-color);\n",
              "    }\n",
              "    30% {\n",
              "      border-color: transparent;\n",
              "      border-left-color: var(--fill-color);\n",
              "      border-top-color: var(--fill-color);\n",
              "      border-right-color: var(--fill-color);\n",
              "    }\n",
              "    40% {\n",
              "      border-color: transparent;\n",
              "      border-right-color: var(--fill-color);\n",
              "      border-top-color: var(--fill-color);\n",
              "    }\n",
              "    60% {\n",
              "      border-color: transparent;\n",
              "      border-right-color: var(--fill-color);\n",
              "    }\n",
              "    80% {\n",
              "      border-color: transparent;\n",
              "      border-right-color: var(--fill-color);\n",
              "      border-bottom-color: var(--fill-color);\n",
              "    }\n",
              "    90% {\n",
              "      border-color: transparent;\n",
              "      border-bottom-color: var(--fill-color);\n",
              "    }\n",
              "  }\n",
              "</style>\n",
              "\n",
              "  <script>\n",
              "    async function quickchart(key) {\n",
              "      const quickchartButtonEl =\n",
              "        document.querySelector('#' + key + ' button');\n",
              "      quickchartButtonEl.disabled = true;  // To prevent multiple clicks.\n",
              "      quickchartButtonEl.classList.add('colab-df-spinner');\n",
              "      try {\n",
              "        const charts = await google.colab.kernel.invokeFunction(\n",
              "            'suggestCharts', [key], {});\n",
              "      } catch (error) {\n",
              "        console.error('Error during call to suggestCharts:', error);\n",
              "      }\n",
              "      quickchartButtonEl.classList.remove('colab-df-spinner');\n",
              "      quickchartButtonEl.classList.add('colab-df-quickchart-complete');\n",
              "    }\n",
              "    (() => {\n",
              "      let quickchartButtonEl =\n",
              "        document.querySelector('#df-f2d83d6b-c31d-401f-ab5c-35591b599c1f button');\n",
              "      quickchartButtonEl.style.display =\n",
              "        google.colab.kernel.accessAllowed ? 'block' : 'none';\n",
              "    })();\n",
              "  </script>\n",
              "</div>\n",
              "    </div>\n",
              "  </div>\n"
            ]
          },
          "metadata": {},
          "execution_count": 12
        }
      ]
    },
    {
      "cell_type": "code",
      "source": [
        "data2.shape"
      ],
      "metadata": {
        "colab": {
          "base_uri": "https://localhost:8080/"
        },
        "id": "DZPGi_TBhx_r",
        "outputId": "e51660b4-d5c4-42d0-c752-64c612fd5a29"
      },
      "execution_count": 13,
      "outputs": [
        {
          "output_type": "execute_result",
          "data": {
            "text/plain": [
              "(8538, 16)"
            ]
          },
          "metadata": {},
          "execution_count": 13
        }
      ]
    },
    {
      "cell_type": "markdown",
      "source": [
        "#### **Missing Values**"
      ],
      "metadata": {
        "id": "GhIOlDhMlLFl"
      }
    },
    {
      "cell_type": "code",
      "source": [
        "data2.isna().sum()"
      ],
      "metadata": {
        "colab": {
          "base_uri": "https://localhost:8080/"
        },
        "id": "lb4u31qQlKoO",
        "outputId": "67b27e7e-8c6f-41d7-c828-ff57334a07a1"
      },
      "execution_count": 14,
      "outputs": [
        {
          "output_type": "execute_result",
          "data": {
            "text/plain": [
              "index            0\n",
              "Name             0\n",
              "Race             0\n",
              "Age              0\n",
              "Condition        0\n",
              "Date             0\n",
              "Drug             0\n",
              "DrugId           0\n",
              "EaseofUse        0\n",
              "Effectiveness    0\n",
              "Reviews          4\n",
              "Satisfaction     0\n",
              "Sex              0\n",
              "Sides            0\n",
              "UsefulCount      0\n",
              "Year             0\n",
              "dtype: int64"
            ]
          },
          "metadata": {},
          "execution_count": 14
        }
      ]
    },
    {
      "cell_type": "code",
      "source": [
        "#Handling instances with whitespaces\n",
        "for i in data2.columns:\n",
        "  for j in data2.loc[data2[i] == \" \"].index:\n",
        "    data2.loc[j,i] = np.NaN\n",
        "\n",
        "data2.isna().sum()"
      ],
      "metadata": {
        "colab": {
          "base_uri": "https://localhost:8080/"
        },
        "id": "vMuKIRYjz1dD",
        "outputId": "fbdbd227-2f5b-4716-b321-3d153396f69d"
      },
      "execution_count": 15,
      "outputs": [
        {
          "output_type": "execute_result",
          "data": {
            "text/plain": [
              "index               0\n",
              "Name                0\n",
              "Race                0\n",
              "Age               270\n",
              "Condition           0\n",
              "Date                0\n",
              "Drug                0\n",
              "DrugId              0\n",
              "EaseofUse           0\n",
              "Effectiveness       0\n",
              "Reviews          1566\n",
              "Satisfaction        0\n",
              "Sex               494\n",
              "Sides               0\n",
              "UsefulCount         0\n",
              "Year                0\n",
              "dtype: int64"
            ]
          },
          "metadata": {},
          "execution_count": 15
        }
      ]
    },
    {
      "cell_type": "markdown",
      "source": [
        "#### **New Feature creation: Sideeffect**"
      ],
      "metadata": {
        "id": "rHN18Ts6wibE"
      }
    },
    {
      "cell_type": "code",
      "source": [
        "mapping = {1: 5, 2: 4, 3: 3, 4: 2, 5: 1}\n",
        "data2['Sideeffect'] = data2['Satisfaction'].map(mapping)"
      ],
      "metadata": {
        "id": "7w-ZB51Jwxla"
      },
      "execution_count": 16,
      "outputs": []
    },
    {
      "cell_type": "markdown",
      "source": [
        "The values in the column 'Sideeffect' are as follows:\n",
        "\n",
        "- 5 suggests extreme level sideeffect\n",
        "- 4 suggests high level sideeffect\n",
        "- 3 suggests medium level sideeffect\n",
        "- 2 suggests moderate level sideeffect\n",
        "- 1 suggests very slight level sideeffect"
      ],
      "metadata": {
        "id": "dVBUhhgxxFTw"
      }
    },
    {
      "cell_type": "code",
      "source": [
        "data2.head()"
      ],
      "metadata": {
        "colab": {
          "base_uri": "https://localhost:8080/",
          "height": 518
        },
        "id": "2-KiFXaaw25w",
        "outputId": "172770c9-48d3-4061-8624-900bb0fdfcf1"
      },
      "execution_count": 17,
      "outputs": [
        {
          "output_type": "execute_result",
          "data": {
            "text/plain": [
              "   index     Name        Race         Age            Condition       Date  \\\n",
              "0   9197     Luci    Hispanic         NaN  High Blood Pressure 2020-02-29   \n",
              "1   9203     Keva  Australoid  75 or over  High Blood Pressure 2020-02-08   \n",
              "2   9209  Clayton  Australoid       55-64  High Blood Pressure 2020-01-14   \n",
              "3   9215   Tanner       Asian       65-74  High Blood Pressure 2019-10-17   \n",
              "4   9221   Dudley       Asian       55-64  High Blood Pressure 2019-10-13   \n",
              "\n",
              "                  Drug  DrugId  EaseofUse  Effectiveness  \\\n",
              "0  lisinopril solution    6873          5              5   \n",
              "1  lisinopril solution    6873          5              4   \n",
              "2  lisinopril solution    6873          4              5   \n",
              "3  lisinopril solution    6873          5              5   \n",
              "4  lisinopril solution    6873          2              4   \n",
              "\n",
              "                                             Reviews  Satisfaction     Sex  \\\n",
              "0  No Script or health Insurance needed to place ...             5     NaN   \n",
              "1  I have developed a very itch rash on my body f...             4  Female   \n",
              "2  tried alternative medicine Beet root, hibiscus...             4    Male   \n",
              "3  Have been taking 10 mg doses per day for over ...             5    Male   \n",
              "4  I don't like that I'm taking this and not know...             2    Male   \n",
              "\n",
              "                                               Sides  UsefulCount  Year  \\\n",
              "0  Dizziness ,  lightheadedness , tiredness, or  ...           14  2020   \n",
              "1  Dizziness ,  lightheadedness , tiredness, or  ...            3  2020   \n",
              "2  Dizziness ,  lightheadedness , tiredness, or  ...            3  2020   \n",
              "3  Dizziness ,  lightheadedness , tiredness, or  ...            6  2019   \n",
              "4  Dizziness ,  lightheadedness , tiredness, or  ...           12  2019   \n",
              "\n",
              "   Sideeffect  \n",
              "0           1  \n",
              "1           2  \n",
              "2           2  \n",
              "3           1  \n",
              "4           4  "
            ],
            "text/html": [
              "\n",
              "  <div id=\"df-b169b612-f54f-40b8-b343-4c692e28033a\" class=\"colab-df-container\">\n",
              "    <div>\n",
              "<style scoped>\n",
              "    .dataframe tbody tr th:only-of-type {\n",
              "        vertical-align: middle;\n",
              "    }\n",
              "\n",
              "    .dataframe tbody tr th {\n",
              "        vertical-align: top;\n",
              "    }\n",
              "\n",
              "    .dataframe thead th {\n",
              "        text-align: right;\n",
              "    }\n",
              "</style>\n",
              "<table border=\"1\" class=\"dataframe\">\n",
              "  <thead>\n",
              "    <tr style=\"text-align: right;\">\n",
              "      <th></th>\n",
              "      <th>index</th>\n",
              "      <th>Name</th>\n",
              "      <th>Race</th>\n",
              "      <th>Age</th>\n",
              "      <th>Condition</th>\n",
              "      <th>Date</th>\n",
              "      <th>Drug</th>\n",
              "      <th>DrugId</th>\n",
              "      <th>EaseofUse</th>\n",
              "      <th>Effectiveness</th>\n",
              "      <th>Reviews</th>\n",
              "      <th>Satisfaction</th>\n",
              "      <th>Sex</th>\n",
              "      <th>Sides</th>\n",
              "      <th>UsefulCount</th>\n",
              "      <th>Year</th>\n",
              "      <th>Sideeffect</th>\n",
              "    </tr>\n",
              "  </thead>\n",
              "  <tbody>\n",
              "    <tr>\n",
              "      <th>0</th>\n",
              "      <td>9197</td>\n",
              "      <td>Luci</td>\n",
              "      <td>Hispanic</td>\n",
              "      <td>NaN</td>\n",
              "      <td>High Blood Pressure</td>\n",
              "      <td>2020-02-29</td>\n",
              "      <td>lisinopril solution</td>\n",
              "      <td>6873</td>\n",
              "      <td>5</td>\n",
              "      <td>5</td>\n",
              "      <td>No Script or health Insurance needed to place ...</td>\n",
              "      <td>5</td>\n",
              "      <td>NaN</td>\n",
              "      <td>Dizziness ,  lightheadedness , tiredness, or  ...</td>\n",
              "      <td>14</td>\n",
              "      <td>2020</td>\n",
              "      <td>1</td>\n",
              "    </tr>\n",
              "    <tr>\n",
              "      <th>1</th>\n",
              "      <td>9203</td>\n",
              "      <td>Keva</td>\n",
              "      <td>Australoid</td>\n",
              "      <td>75 or over</td>\n",
              "      <td>High Blood Pressure</td>\n",
              "      <td>2020-02-08</td>\n",
              "      <td>lisinopril solution</td>\n",
              "      <td>6873</td>\n",
              "      <td>5</td>\n",
              "      <td>4</td>\n",
              "      <td>I have developed a very itch rash on my body f...</td>\n",
              "      <td>4</td>\n",
              "      <td>Female</td>\n",
              "      <td>Dizziness ,  lightheadedness , tiredness, or  ...</td>\n",
              "      <td>3</td>\n",
              "      <td>2020</td>\n",
              "      <td>2</td>\n",
              "    </tr>\n",
              "    <tr>\n",
              "      <th>2</th>\n",
              "      <td>9209</td>\n",
              "      <td>Clayton</td>\n",
              "      <td>Australoid</td>\n",
              "      <td>55-64</td>\n",
              "      <td>High Blood Pressure</td>\n",
              "      <td>2020-01-14</td>\n",
              "      <td>lisinopril solution</td>\n",
              "      <td>6873</td>\n",
              "      <td>4</td>\n",
              "      <td>5</td>\n",
              "      <td>tried alternative medicine Beet root, hibiscus...</td>\n",
              "      <td>4</td>\n",
              "      <td>Male</td>\n",
              "      <td>Dizziness ,  lightheadedness , tiredness, or  ...</td>\n",
              "      <td>3</td>\n",
              "      <td>2020</td>\n",
              "      <td>2</td>\n",
              "    </tr>\n",
              "    <tr>\n",
              "      <th>3</th>\n",
              "      <td>9215</td>\n",
              "      <td>Tanner</td>\n",
              "      <td>Asian</td>\n",
              "      <td>65-74</td>\n",
              "      <td>High Blood Pressure</td>\n",
              "      <td>2019-10-17</td>\n",
              "      <td>lisinopril solution</td>\n",
              "      <td>6873</td>\n",
              "      <td>5</td>\n",
              "      <td>5</td>\n",
              "      <td>Have been taking 10 mg doses per day for over ...</td>\n",
              "      <td>5</td>\n",
              "      <td>Male</td>\n",
              "      <td>Dizziness ,  lightheadedness , tiredness, or  ...</td>\n",
              "      <td>6</td>\n",
              "      <td>2019</td>\n",
              "      <td>1</td>\n",
              "    </tr>\n",
              "    <tr>\n",
              "      <th>4</th>\n",
              "      <td>9221</td>\n",
              "      <td>Dudley</td>\n",
              "      <td>Asian</td>\n",
              "      <td>55-64</td>\n",
              "      <td>High Blood Pressure</td>\n",
              "      <td>2019-10-13</td>\n",
              "      <td>lisinopril solution</td>\n",
              "      <td>6873</td>\n",
              "      <td>2</td>\n",
              "      <td>4</td>\n",
              "      <td>I don't like that I'm taking this and not know...</td>\n",
              "      <td>2</td>\n",
              "      <td>Male</td>\n",
              "      <td>Dizziness ,  lightheadedness , tiredness, or  ...</td>\n",
              "      <td>12</td>\n",
              "      <td>2019</td>\n",
              "      <td>4</td>\n",
              "    </tr>\n",
              "  </tbody>\n",
              "</table>\n",
              "</div>\n",
              "    <div class=\"colab-df-buttons\">\n",
              "\n",
              "  <div class=\"colab-df-container\">\n",
              "    <button class=\"colab-df-convert\" onclick=\"convertToInteractive('df-b169b612-f54f-40b8-b343-4c692e28033a')\"\n",
              "            title=\"Convert this dataframe to an interactive table.\"\n",
              "            style=\"display:none;\">\n",
              "\n",
              "  <svg xmlns=\"http://www.w3.org/2000/svg\" height=\"24px\" viewBox=\"0 -960 960 960\">\n",
              "    <path d=\"M120-120v-720h720v720H120Zm60-500h600v-160H180v160Zm220 220h160v-160H400v160Zm0 220h160v-160H400v160ZM180-400h160v-160H180v160Zm440 0h160v-160H620v160ZM180-180h160v-160H180v160Zm440 0h160v-160H620v160Z\"/>\n",
              "  </svg>\n",
              "    </button>\n",
              "\n",
              "  <style>\n",
              "    .colab-df-container {\n",
              "      display:flex;\n",
              "      gap: 12px;\n",
              "    }\n",
              "\n",
              "    .colab-df-convert {\n",
              "      background-color: #E8F0FE;\n",
              "      border: none;\n",
              "      border-radius: 50%;\n",
              "      cursor: pointer;\n",
              "      display: none;\n",
              "      fill: #1967D2;\n",
              "      height: 32px;\n",
              "      padding: 0 0 0 0;\n",
              "      width: 32px;\n",
              "    }\n",
              "\n",
              "    .colab-df-convert:hover {\n",
              "      background-color: #E2EBFA;\n",
              "      box-shadow: 0px 1px 2px rgba(60, 64, 67, 0.3), 0px 1px 3px 1px rgba(60, 64, 67, 0.15);\n",
              "      fill: #174EA6;\n",
              "    }\n",
              "\n",
              "    .colab-df-buttons div {\n",
              "      margin-bottom: 4px;\n",
              "    }\n",
              "\n",
              "    [theme=dark] .colab-df-convert {\n",
              "      background-color: #3B4455;\n",
              "      fill: #D2E3FC;\n",
              "    }\n",
              "\n",
              "    [theme=dark] .colab-df-convert:hover {\n",
              "      background-color: #434B5C;\n",
              "      box-shadow: 0px 1px 3px 1px rgba(0, 0, 0, 0.15);\n",
              "      filter: drop-shadow(0px 1px 2px rgba(0, 0, 0, 0.3));\n",
              "      fill: #FFFFFF;\n",
              "    }\n",
              "  </style>\n",
              "\n",
              "    <script>\n",
              "      const buttonEl =\n",
              "        document.querySelector('#df-b169b612-f54f-40b8-b343-4c692e28033a button.colab-df-convert');\n",
              "      buttonEl.style.display =\n",
              "        google.colab.kernel.accessAllowed ? 'block' : 'none';\n",
              "\n",
              "      async function convertToInteractive(key) {\n",
              "        const element = document.querySelector('#df-b169b612-f54f-40b8-b343-4c692e28033a');\n",
              "        const dataTable =\n",
              "          await google.colab.kernel.invokeFunction('convertToInteractive',\n",
              "                                                    [key], {});\n",
              "        if (!dataTable) return;\n",
              "\n",
              "        const docLinkHtml = 'Like what you see? Visit the ' +\n",
              "          '<a target=\"_blank\" href=https://colab.research.google.com/notebooks/data_table.ipynb>data table notebook</a>'\n",
              "          + ' to learn more about interactive tables.';\n",
              "        element.innerHTML = '';\n",
              "        dataTable['output_type'] = 'display_data';\n",
              "        await google.colab.output.renderOutput(dataTable, element);\n",
              "        const docLink = document.createElement('div');\n",
              "        docLink.innerHTML = docLinkHtml;\n",
              "        element.appendChild(docLink);\n",
              "      }\n",
              "    </script>\n",
              "  </div>\n",
              "\n",
              "\n",
              "<div id=\"df-ab557916-1fea-45dd-8bc6-c5086217b8fe\">\n",
              "  <button class=\"colab-df-quickchart\" onclick=\"quickchart('df-ab557916-1fea-45dd-8bc6-c5086217b8fe')\"\n",
              "            title=\"Suggest charts.\"\n",
              "            style=\"display:none;\">\n",
              "\n",
              "<svg xmlns=\"http://www.w3.org/2000/svg\" height=\"24px\"viewBox=\"0 0 24 24\"\n",
              "     width=\"24px\">\n",
              "    <g>\n",
              "        <path d=\"M19 3H5c-1.1 0-2 .9-2 2v14c0 1.1.9 2 2 2h14c1.1 0 2-.9 2-2V5c0-1.1-.9-2-2-2zM9 17H7v-7h2v7zm4 0h-2V7h2v10zm4 0h-2v-4h2v4z\"/>\n",
              "    </g>\n",
              "</svg>\n",
              "  </button>\n",
              "\n",
              "<style>\n",
              "  .colab-df-quickchart {\n",
              "      --bg-color: #E8F0FE;\n",
              "      --fill-color: #1967D2;\n",
              "      --hover-bg-color: #E2EBFA;\n",
              "      --hover-fill-color: #174EA6;\n",
              "      --disabled-fill-color: #AAA;\n",
              "      --disabled-bg-color: #DDD;\n",
              "  }\n",
              "\n",
              "  [theme=dark] .colab-df-quickchart {\n",
              "      --bg-color: #3B4455;\n",
              "      --fill-color: #D2E3FC;\n",
              "      --hover-bg-color: #434B5C;\n",
              "      --hover-fill-color: #FFFFFF;\n",
              "      --disabled-bg-color: #3B4455;\n",
              "      --disabled-fill-color: #666;\n",
              "  }\n",
              "\n",
              "  .colab-df-quickchart {\n",
              "    background-color: var(--bg-color);\n",
              "    border: none;\n",
              "    border-radius: 50%;\n",
              "    cursor: pointer;\n",
              "    display: none;\n",
              "    fill: var(--fill-color);\n",
              "    height: 32px;\n",
              "    padding: 0;\n",
              "    width: 32px;\n",
              "  }\n",
              "\n",
              "  .colab-df-quickchart:hover {\n",
              "    background-color: var(--hover-bg-color);\n",
              "    box-shadow: 0 1px 2px rgba(60, 64, 67, 0.3), 0 1px 3px 1px rgba(60, 64, 67, 0.15);\n",
              "    fill: var(--button-hover-fill-color);\n",
              "  }\n",
              "\n",
              "  .colab-df-quickchart-complete:disabled,\n",
              "  .colab-df-quickchart-complete:disabled:hover {\n",
              "    background-color: var(--disabled-bg-color);\n",
              "    fill: var(--disabled-fill-color);\n",
              "    box-shadow: none;\n",
              "  }\n",
              "\n",
              "  .colab-df-spinner {\n",
              "    border: 2px solid var(--fill-color);\n",
              "    border-color: transparent;\n",
              "    border-bottom-color: var(--fill-color);\n",
              "    animation:\n",
              "      spin 1s steps(1) infinite;\n",
              "  }\n",
              "\n",
              "  @keyframes spin {\n",
              "    0% {\n",
              "      border-color: transparent;\n",
              "      border-bottom-color: var(--fill-color);\n",
              "      border-left-color: var(--fill-color);\n",
              "    }\n",
              "    20% {\n",
              "      border-color: transparent;\n",
              "      border-left-color: var(--fill-color);\n",
              "      border-top-color: var(--fill-color);\n",
              "    }\n",
              "    30% {\n",
              "      border-color: transparent;\n",
              "      border-left-color: var(--fill-color);\n",
              "      border-top-color: var(--fill-color);\n",
              "      border-right-color: var(--fill-color);\n",
              "    }\n",
              "    40% {\n",
              "      border-color: transparent;\n",
              "      border-right-color: var(--fill-color);\n",
              "      border-top-color: var(--fill-color);\n",
              "    }\n",
              "    60% {\n",
              "      border-color: transparent;\n",
              "      border-right-color: var(--fill-color);\n",
              "    }\n",
              "    80% {\n",
              "      border-color: transparent;\n",
              "      border-right-color: var(--fill-color);\n",
              "      border-bottom-color: var(--fill-color);\n",
              "    }\n",
              "    90% {\n",
              "      border-color: transparent;\n",
              "      border-bottom-color: var(--fill-color);\n",
              "    }\n",
              "  }\n",
              "</style>\n",
              "\n",
              "  <script>\n",
              "    async function quickchart(key) {\n",
              "      const quickchartButtonEl =\n",
              "        document.querySelector('#' + key + ' button');\n",
              "      quickchartButtonEl.disabled = true;  // To prevent multiple clicks.\n",
              "      quickchartButtonEl.classList.add('colab-df-spinner');\n",
              "      try {\n",
              "        const charts = await google.colab.kernel.invokeFunction(\n",
              "            'suggestCharts', [key], {});\n",
              "      } catch (error) {\n",
              "        console.error('Error during call to suggestCharts:', error);\n",
              "      }\n",
              "      quickchartButtonEl.classList.remove('colab-df-spinner');\n",
              "      quickchartButtonEl.classList.add('colab-df-quickchart-complete');\n",
              "    }\n",
              "    (() => {\n",
              "      let quickchartButtonEl =\n",
              "        document.querySelector('#df-ab557916-1fea-45dd-8bc6-c5086217b8fe button');\n",
              "      quickchartButtonEl.style.display =\n",
              "        google.colab.kernel.accessAllowed ? 'block' : 'none';\n",
              "    })();\n",
              "  </script>\n",
              "</div>\n",
              "    </div>\n",
              "  </div>\n"
            ]
          },
          "metadata": {},
          "execution_count": 17
        }
      ]
    },
    {
      "cell_type": "markdown",
      "source": [
        "## **Exploratory Data Analysis**"
      ],
      "metadata": {
        "id": "TxwW8etacN2A"
      }
    },
    {
      "cell_type": "markdown",
      "source": [
        "### **EDA in main dataset**"
      ],
      "metadata": {
        "id": "ivBnS0On0xqa"
      }
    },
    {
      "cell_type": "code",
      "source": [
        "#Distribution of Age\n",
        "co = data['Race'].value_counts()\n",
        "plt.pie(co, labels = co.index, autopct = '%0.1f%%')\n",
        "plt.title('Proportions of Race', weight = 'bold')\n",
        "plt.show()"
      ],
      "metadata": {
        "id": "iGkqwWdLG2ye",
        "colab": {
          "base_uri": "https://localhost:8080/",
          "height": 428
        },
        "outputId": "437d96df-ccf5-4061-a0d4-d0beec8fee01"
      },
      "execution_count": 18,
      "outputs": [
        {
          "output_type": "display_data",
          "data": {
            "text/plain": [
              "<Figure size 640x480 with 1 Axes>"
            ],
            "image/png": "[encoded data removed]"
          },
          "metadata": {}
        }
      ]
    },
    {
      "cell_type": "markdown",
      "source": [
        "All the 5 races are about in same number of proportions."
      ],
      "metadata": {
        "id": "OpMS-sIHgcYB"
      }
    },
    {
      "cell_type": "code",
      "source": [
        "#Top 20 Drugs based on No. of Users\n",
        "plt.figure(figsize = (6,4))\n",
        "d = data['Drug'].value_counts().head(20).reset_index()\n",
        "d.columns = ['Drug', 'Number of Users']\n",
        "sns.barplot(data = d, x = 'Drug', y = 'Number of Users')\n",
        "plt.title(\"Top 20 Drugs\", weight = 'bold')\n",
        "plt.xticks(rotation=90)\n",
        "plt.show()"
      ],
      "metadata": {
        "colab": {
          "base_uri": "https://localhost:8080/",
          "height": 754
        },
        "id": "Ze-V4sK5Yfxi",
        "outputId": "b1fbf5c9-88e3-4e92-a7e5-34d96ab953aa"
      },
      "execution_count": 19,
      "outputs": [
        {
          "output_type": "display_data",
          "data": {
            "text/plain": [
              "<Figure size 600x400 with 1 Axes>"
            ],
            "image/png": "[encoded data removed]"
          },
          "metadata": {}
        }
      ]
    },
    {
      "cell_type": "markdown",
      "source": [
        "- The drug that is used by the greatest number of users is 'cymbalta', followed by 'lisinopril' and 'lisinopril solution'.\n",
        "\n",
        "- Each of these 20 drugs has more than 2000 users.  "
      ],
      "metadata": {
        "id": "bF4SmSHhfcIx"
      }
    },
    {
      "cell_type": "code",
      "source": [
        "#Top 10 Conditions based on No. of Users\n",
        "\n",
        "d1 = data['Condition'].value_counts().head(10).reset_index()\n",
        "d1.columns = ['Condition', 'Number of Users']\n",
        "plt.figure(figsize = (8,6))\n",
        "sns.barplot(data = d1, x = 'Condition', y = 'Number of Users')\n",
        "plt.title(\"Top 10 Condition\", weight = 'bold')\n",
        "plt.xticks(rotation=90)\n",
        "plt.show()"
      ],
      "metadata": {
        "id": "r-D3rEqKaNa7",
        "colab": {
          "base_uri": "https://localhost:8080/",
          "height": 858
        },
        "outputId": "591efc6f-c5ad-4e75-d183-640cd7afd544"
      },
      "execution_count": 20,
      "outputs": [
        {
          "output_type": "display_data",
          "data": {
            "text/plain": [
              "<Figure size 800x600 with 1 Axes>"
            ],
            "image/png": "[encoded data removed]"
          },
          "metadata": {}
        }
      ]
    },
    {
      "cell_type": "markdown",
      "source": [
        "Almost 50000 users bought drugs for other condition, while only about 25000 people have taken drugs for 'Pain' which is second in the list."
      ],
      "metadata": {
        "id": "PsuI8UEIjcUf"
      }
    },
    {
      "cell_type": "markdown",
      "source": [
        "### **EDA in second dataset(data2)**"
      ],
      "metadata": {
        "id": "6ZKCaIqs08gZ"
      }
    },
    {
      "cell_type": "code",
      "source": [
        "co = data2['Sideeffect'].value_counts()\n",
        "plt.pie(co, labels = co.index, autopct = '%0.1f%%')\n",
        "plt.title('Spread of Sideeffects', weight = 'bold')\n",
        "plt.show()"
      ],
      "metadata": {
        "id": "Z6Vz05FgplhA",
        "colab": {
          "base_uri": "https://localhost:8080/",
          "height": 428
        },
        "outputId": "2784ff53-159c-4e67-f1a2-95108fe241c2"
      },
      "execution_count": 21,
      "outputs": [
        {
          "output_type": "display_data",
          "data": {
            "text/plain": [
              "<Figure size 640x480 with 1 Axes>"
            ],
            "image/png": "[encoded data removed]"
          },
          "metadata": {}
        }
      ]
    },
    {
      "cell_type": "markdown",
      "source": [
        "Inference:\n",
        "\n",
        "- More than one-third of the users encountered extremely high side effects from the drug(rating 5).\n",
        "\n",
        "- Only about a fifth of the total patients suggested that they experienced very little sideeffects(rating 1)."
      ],
      "metadata": {
        "id": "m7nWVDkvx5eW"
      }
    },
    {
      "cell_type": "code",
      "source": [
        "#Distribution of Age\n",
        "plt.figure(figsize = (8,8))\n",
        "sns.countplot(data = data2, x = 'Age')\n",
        "plt.title(\"Age distribution\", weight = 'bold')\n",
        "plt.xlabel('Age')\n",
        "plt.ylabel('Count')\n",
        "plt.show()"
      ],
      "metadata": {
        "colab": {
          "base_uri": "https://localhost:8080/",
          "height": 718
        },
        "id": "mMxrASn61K0j",
        "outputId": "a59792dc-afab-4aaa-b220-eea87891e1c7"
      },
      "execution_count": 22,
      "outputs": [
        {
          "output_type": "display_data",
          "data": {
            "text/plain": [
              "<Figure size 800x800 with 1 Axes>"
            ],
            "image/png": "[encoded data removed]"
          },
          "metadata": {}
        }
      ]
    },
    {
      "cell_type": "markdown",
      "source": [
        "Inference\n",
        "\n",
        "- The patients between age 55-64 use the drug 'lisinopril' the most, followed by the patients of age between 45-54 and 65-74. This shows that middle agers ingest more drugs than any others.\n",
        "\n",
        "- The children and young people below the age 25 are the ones who used the drug least."
      ],
      "metadata": {
        "id": "UgPYr6jZ19Iy"
      }
    },
    {
      "cell_type": "code",
      "source": [
        "plt.figure(figsize=(6,6))\n",
        "data2['Sex'].value_counts().plot.pie(autopct='%1.1f%%')\n",
        "plt.title('Proportion of Gender', weight = 'bold')\n",
        "plt.show()"
      ],
      "metadata": {
        "colab": {
          "base_uri": "https://localhost:8080/",
          "height": 521
        },
        "id": "324yKFvi1Kri",
        "outputId": "8bd4012a-199f-411d-8528-f8034366a674"
      },
      "execution_count": 23,
      "outputs": [
        {
          "output_type": "display_data",
          "data": {
            "text/plain": [
              "<Figure size 600x600 with 1 Axes>"
            ],
            "image/png": "[encoded data removed]"
          },
          "metadata": {}
        }
      ]
    },
    {
      "cell_type": "markdown",
      "source": [
        "The females, who are about three-fifth of the total 'lisinopril' users, consume the drug more than their male counterparts."
      ],
      "metadata": {
        "id": "zVqbmrp53YEb"
      }
    },
    {
      "cell_type": "code",
      "source": [
        "data2['Year'].value_counts().plot(kind='bar')\n",
        "plt.title(\"Number of cases per Year\", weight = 'bold')\n",
        "plt.xlabel(\"Year\")\n",
        "plt.ylabel(\"Count of Reviews\")\n",
        "plt.show()"
      ],
      "metadata": {
        "colab": {
          "base_uri": "https://localhost:8080/",
          "height": 493
        },
        "id": "nsTZGRikLVjD",
        "outputId": "543852cc-af21-4025-85da-c4fefb910a40"
      },
      "execution_count": 24,
      "outputs": [
        {
          "output_type": "display_data",
          "data": {
            "text/plain": [
              "<Figure size 640x480 with 1 Axes>"
            ],
            "image/png": "[encoded data removed]"
          },
          "metadata": {}
        }
      ]
    },
    {
      "cell_type": "markdown",
      "source": [
        "Most of the cases reported were in 2009, the year in which more than 2000 users used the drug 'lisinopril'."
      ],
      "metadata": {
        "id": "k1lskfcKLbby"
      }
    },
    {
      "cell_type": "code",
      "source": [
        "plt.figure(figsize=(10, 6))\n",
        "sns.countplot(x = 'Age', hue = 'Sex', data = data2)\n",
        "plt.title(\"Age Classification by Gender\", weight = 'bold')\n",
        "plt.show()"
      ],
      "metadata": {
        "colab": {
          "base_uri": "https://localhost:8080/",
          "height": 564
        },
        "id": "lqHeFi6jiWKi",
        "outputId": "46fdd174-8752-4fbd-8469-f1aa1d88942e"
      },
      "execution_count": 25,
      "outputs": [
        {
          "output_type": "display_data",
          "data": {
            "text/plain": [
              "<Figure size 1000x600 with 1 Axes>"
            ],
            "image/png": "[encoded data removed]"
          },
          "metadata": {}
        }
      ]
    },
    {
      "cell_type": "markdown",
      "source": [
        "Inference:\n",
        "\n",
        "- Females uses the drug more than males in most of the age groups.\n",
        "\n",
        "- The age groups where the male group dominates slightly are in infants(age 0-2) and in old people of age over 75."
      ],
      "metadata": {
        "id": "KgOWHWoTiubb"
      }
    },
    {
      "cell_type": "code",
      "source": [
        "#distribution of effectiveness\n",
        "sns.countplot(x = data2['Effectiveness'])\n",
        "plt.title(\"Distribution of Effectiveness\", weight = 'bold')\n",
        "plt.ylabel('Count')\n",
        "plt.show()"
      ],
      "metadata": {
        "colab": {
          "base_uri": "https://localhost:8080/",
          "height": 472
        },
        "id": "XQL2yB-41Koj",
        "outputId": "0eff0cf9-9095-497e-fe4a-ad4d6bed9e49"
      },
      "execution_count": 26,
      "outputs": [
        {
          "output_type": "display_data",
          "data": {
            "text/plain": [
              "<Figure size 640x480 with 1 Axes>"
            ],
            "image/png": "[encoded data removed]"
          },
          "metadata": {}
        }
      ]
    },
    {
      "cell_type": "markdown",
      "source": [
        "Most users voted a rating more than 3 which implies that the drug is fairly effective."
      ],
      "metadata": {
        "id": "EXyKXaVufCij"
      }
    },
    {
      "cell_type": "code",
      "source": [
        "#distribution of satisfaction\n",
        "data2['Satisfaction'].value_counts().plot(kind='bar')\n",
        "plt.title(\"Distribution of Satisfaction\", weight = 'bold')\n",
        "plt.ylabel(\"Count\")\n",
        "plt.show()"
      ],
      "metadata": {
        "colab": {
          "base_uri": "https://localhost:8080/",
          "height": 447
        },
        "id": "VR0YMBXB1KlS",
        "outputId": "f8b8d5cf-b452-47b4-be3d-0a9e1528b160"
      },
      "execution_count": 27,
      "outputs": [
        {
          "output_type": "display_data",
          "data": {
            "text/plain": [
              "<Figure size 640x480 with 1 Axes>"
            ],
            "image/png": "[encoded data removed]"
          },
          "metadata": {}
        }
      ]
    },
    {
      "cell_type": "markdown",
      "source": [
        "Inference:\n",
        "\n",
        "- A large range of people(more than 3000) were unsatisfied with the drug as the users rated 1 more than any other rating in satifaction section.\n",
        "\n",
        "- Only less than 3500 users who have taken the drug 'lisinopril' were satisfied with the drug(rating 4 and 5)."
      ],
      "metadata": {
        "id": "g2cu_YSog2Qh"
      }
    },
    {
      "cell_type": "code",
      "source": [
        "plt.figure(figsize=(10,8))\n",
        "g = sns.catplot(x=\"Sideeffect\",col=\"Sex\",\n",
        "                data=data2, kind=\"count\");\n",
        "plt.show()"
      ],
      "metadata": {
        "id": "LWwHXTbe1KgS",
        "colab": {
          "base_uri": "https://localhost:8080/",
          "height": 524
        },
        "outputId": "795de517-fc1e-4596-c15d-51db13388b98"
      },
      "execution_count": 28,
      "outputs": [
        {
          "output_type": "display_data",
          "data": {
            "text/plain": [
              "<Figure size 1000x800 with 0 Axes>"
            ]
          },
          "metadata": {}
        },
        {
          "output_type": "display_data",
          "data": {
            "text/plain": [
              "<Figure size 1000x500 with 2 Axes>"
            ],
            "image/png": "[encoded data removed]"
          },
          "metadata": {}
        }
      ]
    },
    {
      "cell_type": "markdown",
      "source": [
        "\n",
        "*   The females faced more extreme sideeffects than the males.\n",
        "*   About 2000 female users encountered acute sideeffects from the drug, which suggests that there are adverse reactions caused by the drug 'lisinopril' to most of the women.\n",
        "*   There are mixed sideeffects in the males caused by the drug."
      ],
      "metadata": {
        "id": "qrA6iEga0ry8"
      }
    },
    {
      "cell_type": "code",
      "source": [
        "plt.figure(figsize=(10, 6))\n",
        "sns.countplot(x = 'Race', hue = 'Sideeffect', data = data2)\n",
        "plt.title('Distribution of Race by Sideeffect', weight='bold')\n",
        "plt.show()"
      ],
      "metadata": {
        "colab": {
          "base_uri": "https://localhost:8080/",
          "height": 564
        },
        "id": "CukGMQ2m0q8f",
        "outputId": "3d23fe76-f2a6-44a7-fb26-ced1d3fb9f3f"
      },
      "execution_count": 29,
      "outputs": [
        {
          "output_type": "display_data",
          "data": {
            "text/plain": [
              "<Figure size 1000x600 with 1 Axes>"
            ],
            "image/png": "[encoded data removed]"
          },
          "metadata": {}
        }
      ]
    },
    {
      "cell_type": "markdown",
      "source": [
        "*   People in all the races experienced extreme drug reactions."
      ],
      "metadata": {
        "id": "iGv1YfZi4E6R"
      }
    },
    {
      "cell_type": "code",
      "source": [
        "plt.figure(figsize=(10, 6))\n",
        "sns.countplot(x = 'Age', hue = 'Sideeffect', data = data2)\n",
        "plt.title('Distribution of Age by Sideeffect', weight='bold')\n",
        "plt.show()"
      ],
      "metadata": {
        "colab": {
          "base_uri": "https://localhost:8080/",
          "height": 564
        },
        "id": "APIV_etHOkKh",
        "outputId": "db7cd3b7-7db6-46ab-9a58-06deca1222c1"
      },
      "execution_count": 30,
      "outputs": [
        {
          "output_type": "display_data",
          "data": {
            "text/plain": [
              "<Figure size 1000x600 with 1 Axes>"
            ],
            "image/png": "[encoded data removed]"
          },
          "metadata": {}
        }
      ]
    },
    {
      "cell_type": "markdown",
      "source": [
        "*   The users between the age 55-64 experienced more adverse reactions from the drug than any other age groups\n"
      ],
      "metadata": {
        "id": "FKuYdSkERmwB"
      }
    },
    {
      "cell_type": "markdown",
      "source": [
        "## **Data Preprocessing**"
      ],
      "metadata": {
        "id": "tVRWR-luMByZ"
      }
    },
    {
      "cell_type": "code",
      "source": [
        "data2.columns"
      ],
      "metadata": {
        "colab": {
          "base_uri": "https://localhost:8080/"
        },
        "id": "o0qtFzSMN9Ky",
        "outputId": "62789ee1-a6cf-4aee-d4d4-f696a55eb65b"
      },
      "execution_count": 31,
      "outputs": [
        {
          "output_type": "execute_result",
          "data": {
            "text/plain": [
              "Index(['index', 'Name', 'Race', 'Age', 'Condition', 'Date', 'Drug', 'DrugId',\n",
              "       'EaseofUse', 'Effectiveness', 'Reviews', 'Satisfaction', 'Sex', 'Sides',\n",
              "       'UsefulCount', 'Year', 'Sideeffect'],\n",
              "      dtype='object')"
            ]
          },
          "metadata": {},
          "execution_count": 31
        }
      ]
    },
    {
      "cell_type": "markdown",
      "source": [
        "#### **Duplicates**"
      ],
      "metadata": {
        "id": "mxO9mJs-h5IS"
      }
    },
    {
      "cell_type": "code",
      "source": [
        "# Checking for duplicates in the DataFrame\n",
        "duplicate_rows = data2[data2.duplicated()]\n",
        "\n",
        "# If there are duplicates, print the number of duplicate rows\n",
        "if not duplicate_rows.empty:\n",
        "    print(f\"Number of duplicate rows: {len(duplicate_rows)}\")\n",
        "else:\n",
        "    print(\"No duplicates found in the DataFrame.\")\n",
        "\n",
        "# Remove duplicates from the DataFrame\n",
        "data2.drop_duplicates(inplace=True)\n",
        "\n",
        "# Print the new shape of the DataFrame after removing duplicates\n",
        "print(\"\\n\")\n",
        "print(\"Shape after removing duplicates:\", data2.shape)\n"
      ],
      "metadata": {
        "colab": {
          "base_uri": "https://localhost:8080/"
        },
        "id": "_X8sCQHQhBUo",
        "outputId": "2aa7d822-c0e5-4794-cf9f-f454a38bd800"
      },
      "execution_count": 32,
      "outputs": [
        {
          "output_type": "stream",
          "name": "stdout",
          "text": [
            "No duplicates found in the DataFrame.\n",
            "\n",
            "\n",
            "Shape after removing duplicates: (8538, 17)\n"
          ]
        }
      ]
    },
    {
      "cell_type": "markdown",
      "source": [
        "#### **Feature Selection**"
      ],
      "metadata": {
        "id": "5A4OqOtp-Ja2"
      }
    },
    {
      "cell_type": "code",
      "source": [
        "#dropping unnecessary columns from the drug dataset\n",
        "data2.drop(['index', 'Name', 'Race', 'Condition', 'Date', 'Drug', 'DrugId', 'Reviews', 'Satisfaction', 'Sides'], axis = 1, inplace = True)\n",
        "data2.shape"
      ],
      "metadata": {
        "id": "p659icgH1KYh",
        "colab": {
          "base_uri": "https://localhost:8080/"
        },
        "outputId": "f19bee50-ceed-476a-d50c-36d136569a4f"
      },
      "execution_count": 33,
      "outputs": [
        {
          "output_type": "execute_result",
          "data": {
            "text/plain": [
              "(8538, 7)"
            ]
          },
          "metadata": {},
          "execution_count": 33
        }
      ]
    },
    {
      "cell_type": "markdown",
      "source": [
        "Columns that were not relevant or informative for classifying drug sideeffects were dropped to simplify the dataset and eliminate noise.\n",
        "\n",
        "This reduced the column count to 6, focusing only on the essential features for the analysis."
      ],
      "metadata": {
        "id": "ScWojByajqfs"
      }
    },
    {
      "cell_type": "code",
      "source": [
        "data2.head()"
      ],
      "metadata": {
        "colab": {
          "base_uri": "https://localhost:8080/",
          "height": 206
        },
        "id": "NnJlvIvAkSU4",
        "outputId": "b7e6a3cf-0a63-4127-df90-6e4c4ecfba00"
      },
      "execution_count": 34,
      "outputs": [
        {
          "output_type": "execute_result",
          "data": {
            "text/plain": [
              "          Age  EaseofUse  Effectiveness     Sex  UsefulCount  Year  Sideeffect\n",
              "0         NaN          5              5     NaN           14  2020           1\n",
              "1  75 or over          5              4  Female            3  2020           2\n",
              "2       55-64          4              5    Male            3  2020           2\n",
              "3       65-74          5              5    Male            6  2019           1\n",
              "4       55-64          2              4    Male           12  2019           4"
            ],
            "text/html": [
              "\n",
              "  <div id=\"df-9d9f4736-7012-4256-bf82-d80c44b0ff3a\" class=\"colab-df-container\">\n",
              "    <div>\n",
              "<style scoped>\n",
              "    .dataframe tbody tr th:only-of-type {\n",
              "        vertical-align: middle;\n",
              "    }\n",
              "\n",
              "    .dataframe tbody tr th {\n",
              "        vertical-align: top;\n",
              "    }\n",
              "\n",
              "    .dataframe thead th {\n",
              "        text-align: right;\n",
              "    }\n",
              "</style>\n",
              "<table border=\"1\" class=\"dataframe\">\n",
              "  <thead>\n",
              "    <tr style=\"text-align: right;\">\n",
              "      <th></th>\n",
              "      <th>Age</th>\n",
              "      <th>EaseofUse</th>\n",
              "      <th>Effectiveness</th>\n",
              "      <th>Sex</th>\n",
              "      <th>UsefulCount</th>\n",
              "      <th>Year</th>\n",
              "      <th>Sideeffect</th>\n",
              "    </tr>\n",
              "  </thead>\n",
              "  <tbody>\n",
              "    <tr>\n",
              "      <th>0</th>\n",
              "      <td>NaN</td>\n",
              "      <td>5</td>\n",
              "      <td>5</td>\n",
              "      <td>NaN</td>\n",
              "      <td>14</td>\n",
              "      <td>2020</td>\n",
              "      <td>1</td>\n",
              "    </tr>\n",
              "    <tr>\n",
              "      <th>1</th>\n",
              "      <td>75 or over</td>\n",
              "      <td>5</td>\n",
              "      <td>4</td>\n",
              "      <td>Female</td>\n",
              "      <td>3</td>\n",
              "      <td>2020</td>\n",
              "      <td>2</td>\n",
              "    </tr>\n",
              "    <tr>\n",
              "      <th>2</th>\n",
              "      <td>55-64</td>\n",
              "      <td>4</td>\n",
              "      <td>5</td>\n",
              "      <td>Male</td>\n",
              "      <td>3</td>\n",
              "      <td>2020</td>\n",
              "      <td>2</td>\n",
              "    </tr>\n",
              "    <tr>\n",
              "      <th>3</th>\n",
              "      <td>65-74</td>\n",
              "      <td>5</td>\n",
              "      <td>5</td>\n",
              "      <td>Male</td>\n",
              "      <td>6</td>\n",
              "      <td>2019</td>\n",
              "      <td>1</td>\n",
              "    </tr>\n",
              "    <tr>\n",
              "      <th>4</th>\n",
              "      <td>55-64</td>\n",
              "      <td>2</td>\n",
              "      <td>4</td>\n",
              "      <td>Male</td>\n",
              "      <td>12</td>\n",
              "      <td>2019</td>\n",
              "      <td>4</td>\n",
              "    </tr>\n",
              "  </tbody>\n",
              "</table>\n",
              "</div>\n",
              "    <div class=\"colab-df-buttons\">\n",
              "\n",
              "  <div class=\"colab-df-container\">\n",
              "    <button class=\"colab-df-convert\" onclick=\"convertToInteractive('df-9d9f4736-7012-4256-bf82-d80c44b0ff3a')\"\n",
              "            title=\"Convert this dataframe to an interactive table.\"\n",
              "            style=\"display:none;\">\n",
              "\n",
              "  <svg xmlns=\"http://www.w3.org/2000/svg\" height=\"24px\" viewBox=\"0 -960 960 960\">\n",
              "    <path d=\"M120-120v-720h720v720H120Zm60-500h600v-160H180v160Zm220 220h160v-160H400v160Zm0 220h160v-160H400v160ZM180-400h160v-160H180v160Zm440 0h160v-160H620v160ZM180-180h160v-160H180v160Zm440 0h160v-160H620v160Z\"/>\n",
              "  </svg>\n",
              "    </button>\n",
              "\n",
              "  <style>\n",
              "    .colab-df-container {\n",
              "      display:flex;\n",
              "      gap: 12px;\n",
              "    }\n",
              "\n",
              "    .colab-df-convert {\n",
              "      background-color: #E8F0FE;\n",
              "      border: none;\n",
              "      border-radius: 50%;\n",
              "      cursor: pointer;\n",
              "      display: none;\n",
              "      fill: #1967D2;\n",
              "      height: 32px;\n",
              "      padding: 0 0 0 0;\n",
              "      width: 32px;\n",
              "    }\n",
              "\n",
              "    .colab-df-convert:hover {\n",
              "      background-color: #E2EBFA;\n",
              "      box-shadow: 0px 1px 2px rgba(60, 64, 67, 0.3), 0px 1px 3px 1px rgba(60, 64, 67, 0.15);\n",
              "      fill: #174EA6;\n",
              "    }\n",
              "\n",
              "    .colab-df-buttons div {\n",
              "      margin-bottom: 4px;\n",
              "    }\n",
              "\n",
              "    [theme=dark] .colab-df-convert {\n",
              "      background-color: #3B4455;\n",
              "      fill: #D2E3FC;\n",
              "    }\n",
              "\n",
              "    [theme=dark] .colab-df-convert:hover {\n",
              "      background-color: #434B5C;\n",
              "      box-shadow: 0px 1px 3px 1px rgba(0, 0, 0, 0.15);\n",
              "      filter: drop-shadow(0px 1px 2px rgba(0, 0, 0, 0.3));\n",
              "      fill: #FFFFFF;\n",
              "    }\n",
              "  </style>\n",
              "\n",
              "    <script>\n",
              "      const buttonEl =\n",
              "        document.querySelector('#df-9d9f4736-7012-4256-bf82-d80c44b0ff3a button.colab-df-convert');\n",
              "      buttonEl.style.display =\n",
              "        google.colab.kernel.accessAllowed ? 'block' : 'none';\n",
              "\n",
              "      async function convertToInteractive(key) {\n",
              "        const element = document.querySelector('#df-9d9f4736-7012-4256-bf82-d80c44b0ff3a');\n",
              "        const dataTable =\n",
              "          await google.colab.kernel.invokeFunction('convertToInteractive',\n",
              "                                                    [key], {});\n",
              "        if (!dataTable) return;\n",
              "\n",
              "        const docLinkHtml = 'Like what you see? Visit the ' +\n",
              "          '<a target=\"_blank\" href=https://colab.research.google.com/notebooks/data_table.ipynb>data table notebook</a>'\n",
              "          + ' to learn more about interactive tables.';\n",
              "        element.innerHTML = '';\n",
              "        dataTable['output_type'] = 'display_data';\n",
              "        await google.colab.output.renderOutput(dataTable, element);\n",
              "        const docLink = document.createElement('div');\n",
              "        docLink.innerHTML = docLinkHtml;\n",
              "        element.appendChild(docLink);\n",
              "      }\n",
              "    </script>\n",
              "  </div>\n",
              "\n",
              "\n",
              "<div id=\"df-0980790d-0b56-471d-ac74-063b08f6b767\">\n",
              "  <button class=\"colab-df-quickchart\" onclick=\"quickchart('df-0980790d-0b56-471d-ac74-063b08f6b767')\"\n",
              "            title=\"Suggest charts.\"\n",
              "            style=\"display:none;\">\n",
              "\n",
              "<svg xmlns=\"http://www.w3.org/2000/svg\" height=\"24px\"viewBox=\"0 0 24 24\"\n",
              "     width=\"24px\">\n",
              "    <g>\n",
              "        <path d=\"M19 3H5c-1.1 0-2 .9-2 2v14c0 1.1.9 2 2 2h14c1.1 0 2-.9 2-2V5c0-1.1-.9-2-2-2zM9 17H7v-7h2v7zm4 0h-2V7h2v10zm4 0h-2v-4h2v4z\"/>\n",
              "    </g>\n",
              "</svg>\n",
              "  </button>\n",
              "\n",
              "<style>\n",
              "  .colab-df-quickchart {\n",
              "      --bg-color: #E8F0FE;\n",
              "      --fill-color: #1967D2;\n",
              "      --hover-bg-color: #E2EBFA;\n",
              "      --hover-fill-color: #174EA6;\n",
              "      --disabled-fill-color: #AAA;\n",
              "      --disabled-bg-color: #DDD;\n",
              "  }\n",
              "\n",
              "  [theme=dark] .colab-df-quickchart {\n",
              "      --bg-color: #3B4455;\n",
              "      --fill-color: #D2E3FC;\n",
              "      --hover-bg-color: #434B5C;\n",
              "      --hover-fill-color: #FFFFFF;\n",
              "      --disabled-bg-color: #3B4455;\n",
              "      --disabled-fill-color: #666;\n",
              "  }\n",
              "\n",
              "  .colab-df-quickchart {\n",
              "    background-color: var(--bg-color);\n",
              "    border: none;\n",
              "    border-radius: 50%;\n",
              "    cursor: pointer;\n",
              "    display: none;\n",
              "    fill: var(--fill-color);\n",
              "    height: 32px;\n",
              "    padding: 0;\n",
              "    width: 32px;\n",
              "  }\n",
              "\n",
              "  .colab-df-quickchart:hover {\n",
              "    background-color: var(--hover-bg-color);\n",
              "    box-shadow: 0 1px 2px rgba(60, 64, 67, 0.3), 0 1px 3px 1px rgba(60, 64, 67, 0.15);\n",
              "    fill: var(--button-hover-fill-color);\n",
              "  }\n",
              "\n",
              "  .colab-df-quickchart-complete:disabled,\n",
              "  .colab-df-quickchart-complete:disabled:hover {\n",
              "    background-color: var(--disabled-bg-color);\n",
              "    fill: var(--disabled-fill-color);\n",
              "    box-shadow: none;\n",
              "  }\n",
              "\n",
              "  .colab-df-spinner {\n",
              "    border: 2px solid var(--fill-color);\n",
              "    border-color: transparent;\n",
              "    border-bottom-color: var(--fill-color);\n",
              "    animation:\n",
              "      spin 1s steps(1) infinite;\n",
              "  }\n",
              "\n",
              "  @keyframes spin {\n",
              "    0% {\n",
              "      border-color: transparent;\n",
              "      border-bottom-color: var(--fill-color);\n",
              "      border-left-color: var(--fill-color);\n",
              "    }\n",
              "    20% {\n",
              "      border-color: transparent;\n",
              "      border-left-color: var(--fill-color);\n",
              "      border-top-color: var(--fill-color);\n",
              "    }\n",
              "    30% {\n",
              "      border-color: transparent;\n",
              "      border-left-color: var(--fill-color);\n",
              "      border-top-color: var(--fill-color);\n",
              "      border-right-color: var(--fill-color);\n",
              "    }\n",
              "    40% {\n",
              "      border-color: transparent;\n",
              "      border-right-color: var(--fill-color);\n",
              "      border-top-color: var(--fill-color);\n",
              "    }\n",
              "    60% {\n",
              "      border-color: transparent;\n",
              "      border-right-color: var(--fill-color);\n",
              "    }\n",
              "    80% {\n",
              "      border-color: transparent;\n",
              "      border-right-color: var(--fill-color);\n",
              "      border-bottom-color: var(--fill-color);\n",
              "    }\n",
              "    90% {\n",
              "      border-color: transparent;\n",
              "      border-bottom-color: var(--fill-color);\n",
              "    }\n",
              "  }\n",
              "</style>\n",
              "\n",
              "  <script>\n",
              "    async function quickchart(key) {\n",
              "      const quickchartButtonEl =\n",
              "        document.querySelector('#' + key + ' button');\n",
              "      quickchartButtonEl.disabled = true;  // To prevent multiple clicks.\n",
              "      quickchartButtonEl.classList.add('colab-df-spinner');\n",
              "      try {\n",
              "        const charts = await google.colab.kernel.invokeFunction(\n",
              "            'suggestCharts', [key], {});\n",
              "      } catch (error) {\n",
              "        console.error('Error during call to suggestCharts:', error);\n",
              "      }\n",
              "      quickchartButtonEl.classList.remove('colab-df-spinner');\n",
              "      quickchartButtonEl.classList.add('colab-df-quickchart-complete');\n",
              "    }\n",
              "    (() => {\n",
              "      let quickchartButtonEl =\n",
              "        document.querySelector('#df-0980790d-0b56-471d-ac74-063b08f6b767 button');\n",
              "      quickchartButtonEl.style.display =\n",
              "        google.colab.kernel.accessAllowed ? 'block' : 'none';\n",
              "    })();\n",
              "  </script>\n",
              "</div>\n",
              "    </div>\n",
              "  </div>\n"
            ]
          },
          "metadata": {},
          "execution_count": 34
        }
      ]
    },
    {
      "cell_type": "markdown",
      "source": [
        "#### **Handling Missing Values**\n"
      ],
      "metadata": {
        "id": "_zsFEUfDim3_"
      }
    },
    {
      "cell_type": "code",
      "source": [
        "data2.isna().sum()"
      ],
      "metadata": {
        "colab": {
          "base_uri": "https://localhost:8080/"
        },
        "id": "wUnbcQkpiw4N",
        "outputId": "aaba13a5-2fc7-47bc-f578-2993123d08d6"
      },
      "execution_count": 35,
      "outputs": [
        {
          "output_type": "execute_result",
          "data": {
            "text/plain": [
              "Age              270\n",
              "EaseofUse          0\n",
              "Effectiveness      0\n",
              "Sex              494\n",
              "UsefulCount        0\n",
              "Year               0\n",
              "Sideeffect         0\n",
              "dtype: int64"
            ]
          },
          "metadata": {},
          "execution_count": 35
        }
      ]
    },
    {
      "cell_type": "markdown",
      "source": [
        "- To handle missing values, appropriate techniques such as imputation or removal can be applied based on the drug characteristics and the impact of missing values on the analysis."
      ],
      "metadata": {
        "id": "EG-YnUbviyet"
      }
    },
    {
      "cell_type": "code",
      "source": [
        "data2.Age.unique()"
      ],
      "metadata": {
        "colab": {
          "base_uri": "https://localhost:8080/"
        },
        "id": "p_nZjcsMjc1L",
        "outputId": "2e40e046-68f7-46c2-b3b0-fb6712dd5463"
      },
      "execution_count": 36,
      "outputs": [
        {
          "output_type": "execute_result",
          "data": {
            "text/plain": [
              "array([nan, '75 or over', '55-64', '65-74', '25-34', '35-44', '45-54',\n",
              "       '13-18', '19-24', '0-2', '7-12'], dtype=object)"
            ]
          },
          "metadata": {},
          "execution_count": 36
        }
      ]
    },
    {
      "cell_type": "markdown",
      "source": [
        "Randomly filling the missing values in the column 'Age'."
      ],
      "metadata": {
        "id": "nb3tdR6hkBnU"
      }
    },
    {
      "cell_type": "code",
      "source": [
        "# Handling missing values in 'Age' column\n",
        "age = ['75 or over', '55-64', '65-74', '25-34', '35-44', '45-54', '13-18', '19-24', '0-2', '7-12']\n",
        "\n",
        "for i in data2.loc[data2['Age'].isna()].index:\n",
        "  data2.iloc[i, 0] = random.choices(age)[0]"
      ],
      "metadata": {
        "id": "HcWQhVhnkDMQ"
      },
      "execution_count": 37,
      "outputs": []
    },
    {
      "cell_type": "code",
      "source": [
        "data2.Sex.unique()"
      ],
      "metadata": {
        "colab": {
          "base_uri": "https://localhost:8080/"
        },
        "id": "jiS4OFK2kbvT",
        "outputId": "1b98e364-bcb8-4103-f43f-38ee9c0e3968"
      },
      "execution_count": 38,
      "outputs": [
        {
          "output_type": "execute_result",
          "data": {
            "text/plain": [
              "array([nan, 'Female', 'Male'], dtype=object)"
            ]
          },
          "metadata": {},
          "execution_count": 38
        }
      ]
    },
    {
      "cell_type": "markdown",
      "source": [
        "Randomly filling the missing values in the column 'Sex'."
      ],
      "metadata": {
        "id": "raHA9ZEgksrN"
      }
    },
    {
      "cell_type": "code",
      "source": [
        "# Handling missing values in 'Sex' column\n",
        "gender = ['Female', 'Male']\n",
        "\n",
        "for i in data2.loc[data2['Sex'].isna()].index:\n",
        "  data2.iloc[i, 3] = random.choices(gender)[0]"
      ],
      "metadata": {
        "id": "wEophaoWkv9k"
      },
      "execution_count": 39,
      "outputs": []
    },
    {
      "cell_type": "code",
      "source": [
        "# Remove rows with any missing values from the selected drug dataset(if any)\n",
        "data2.dropna(axis = 0, inplace = True)"
      ],
      "metadata": {
        "id": "JtgZj7Ytk6Bk"
      },
      "execution_count": 40,
      "outputs": []
    },
    {
      "cell_type": "code",
      "source": [
        "data2.isna().sum()"
      ],
      "metadata": {
        "colab": {
          "base_uri": "https://localhost:8080/"
        },
        "id": "aUOnS5ZWlBW-",
        "outputId": "200409ec-3313-42c2-8132-1900891f2b60"
      },
      "execution_count": 41,
      "outputs": [
        {
          "output_type": "execute_result",
          "data": {
            "text/plain": [
              "Age              0\n",
              "EaseofUse        0\n",
              "Effectiveness    0\n",
              "Sex              0\n",
              "UsefulCount      0\n",
              "Year             0\n",
              "Sideeffect       0\n",
              "dtype: int64"
            ]
          },
          "metadata": {},
          "execution_count": 41
        }
      ]
    },
    {
      "cell_type": "code",
      "source": [
        "data2.shape"
      ],
      "metadata": {
        "colab": {
          "base_uri": "https://localhost:8080/"
        },
        "id": "ncM4rz5dp7L_",
        "outputId": "c8a4e2c9-7a12-408c-fa0a-1e013c4d496c"
      },
      "execution_count": 42,
      "outputs": [
        {
          "output_type": "execute_result",
          "data": {
            "text/plain": [
              "(8538, 7)"
            ]
          },
          "metadata": {},
          "execution_count": 42
        }
      ]
    },
    {
      "cell_type": "markdown",
      "source": [
        "#### **Conversion of 'Age' Column**"
      ],
      "metadata": {
        "id": "cPkh578kjt51"
      }
    },
    {
      "cell_type": "code",
      "source": [
        "#preprocess 'age' column to convert age groups to numerical values\n",
        "def preprocess_age(age_group):\n",
        "    if pd.notnull(age_group):\n",
        "        if isinstance(age_group, float):\n",
        "            return age_group\n",
        "        elif isinstance(age_group, str):\n",
        "            if age_group.startswith('75'):\n",
        "               age_range = age_group.split(' ')\n",
        "               return int(age_range[0]) + 4\n",
        "            else:\n",
        "                age_range = age_group.split('-')\n",
        "                return (int(age_range[0]) + int(age_range[1])) / 2\n",
        "    return age_group\n",
        "\n",
        "data2['Age'] = data2['Age'].apply(preprocess_age)"
      ],
      "metadata": {
        "id": "tSiNx3ZsN3Lw"
      },
      "execution_count": 43,
      "outputs": []
    },
    {
      "cell_type": "markdown",
      "source": [
        ": The code converts age groups represented as strings into numerical values.\n",
        "\n",
        ": If the age group is already a float, it remains unchanged.\n",
        "\n",
        ": Age groups represented as strings are further processed:\n",
        "\n",
        "- Age groups starting with '75' are converted to an approximate upper bound age of 79.\n",
        "- Age range (e.g., '25-34') is converted to the average of lower and upper bounds.\n",
        "\n",
        ": The outcome is the 'age' column with numerical values for age groups suitable for analysis and modeling.\n"
      ],
      "metadata": {
        "id": "Ro_nDY01DWRa"
      }
    },
    {
      "cell_type": "code",
      "source": [
        "data2.Age.unique()"
      ],
      "metadata": {
        "colab": {
          "base_uri": "https://localhost:8080/"
        },
        "id": "0hNNUfaRA7E7",
        "outputId": "69d8d1e3-0735-4b13-c440-d83617aa6ae4"
      },
      "execution_count": 44,
      "outputs": [
        {
          "output_type": "execute_result",
          "data": {
            "text/plain": [
              "array([39.5, 79. , 59.5, 69.5, 29.5, 49.5, 15.5, 21.5,  1. ,  9.5])"
            ]
          },
          "metadata": {},
          "execution_count": 44
        }
      ]
    },
    {
      "cell_type": "markdown",
      "source": [
        "#### **Encoding**"
      ],
      "metadata": {
        "id": "yppN0GMYpl5X"
      }
    },
    {
      "cell_type": "code",
      "source": [
        "# One hot Encoding\n",
        "data3 = pd.get_dummies(data2)"
      ],
      "metadata": {
        "id": "8UZLmxMLEHs7"
      },
      "execution_count": 45,
      "outputs": []
    },
    {
      "cell_type": "code",
      "source": [
        "data3.head()"
      ],
      "metadata": {
        "colab": {
          "base_uri": "https://localhost:8080/",
          "height": 206
        },
        "id": "9QgQ7YR7qgN-",
        "outputId": "dae950f6-b1a5-485c-dcea-256bc1b9c79c"
      },
      "execution_count": 46,
      "outputs": [
        {
          "output_type": "execute_result",
          "data": {
            "text/plain": [
              "    Age  EaseofUse  Effectiveness  UsefulCount  Year  Sideeffect  Sex_Female  \\\n",
              "0  39.5          5              5           14  2020           1           1   \n",
              "1  79.0          5              4            3  2020           2           1   \n",
              "2  59.5          4              5            3  2020           2           0   \n",
              "3  69.5          5              5            6  2019           1           0   \n",
              "4  59.5          2              4           12  2019           4           0   \n",
              "\n",
              "   Sex_Male  \n",
              "0         0  \n",
              "1         0  \n",
              "2         1  \n",
              "3         1  \n",
              "4         1  "
            ],
            "text/html": [
              "\n",
              "  <div id=\"df-4b499f24-e86b-4255-ab92-81adc07fd370\" class=\"colab-df-container\">\n",
              "    <div>\n",
              "<style scoped>\n",
              "    .dataframe tbody tr th:only-of-type {\n",
              "        vertical-align: middle;\n",
              "    }\n",
              "\n",
              "    .dataframe tbody tr th {\n",
              "        vertical-align: top;\n",
              "    }\n",
              "\n",
              "    .dataframe thead th {\n",
              "        text-align: right;\n",
              "    }\n",
              "</style>\n",
              "<table border=\"1\" class=\"dataframe\">\n",
              "  <thead>\n",
              "    <tr style=\"text-align: right;\">\n",
              "      <th></th>\n",
              "      <th>Age</th>\n",
              "      <th>EaseofUse</th>\n",
              "      <th>Effectiveness</th>\n",
              "      <th>UsefulCount</th>\n",
              "      <th>Year</th>\n",
              "      <th>Sideeffect</th>\n",
              "      <th>Sex_Female</th>\n",
              "      <th>Sex_Male</th>\n",
              "    </tr>\n",
              "  </thead>\n",
              "  <tbody>\n",
              "    <tr>\n",
              "      <th>0</th>\n",
              "      <td>39.5</td>\n",
              "      <td>5</td>\n",
              "      <td>5</td>\n",
              "      <td>14</td>\n",
              "      <td>2020</td>\n",
              "      <td>1</td>\n",
              "      <td>1</td>\n",
              "      <td>0</td>\n",
              "    </tr>\n",
              "    <tr>\n",
              "      <th>1</th>\n",
              "      <td>79.0</td>\n",
              "      <td>5</td>\n",
              "      <td>4</td>\n",
              "      <td>3</td>\n",
              "      <td>2020</td>\n",
              "      <td>2</td>\n",
              "      <td>1</td>\n",
              "      <td>0</td>\n",
              "    </tr>\n",
              "    <tr>\n",
              "      <th>2</th>\n",
              "      <td>59.5</td>\n",
              "      <td>4</td>\n",
              "      <td>5</td>\n",
              "      <td>3</td>\n",
              "      <td>2020</td>\n",
              "      <td>2</td>\n",
              "      <td>0</td>\n",
              "      <td>1</td>\n",
              "    </tr>\n",
              "    <tr>\n",
              "      <th>3</th>\n",
              "      <td>69.5</td>\n",
              "      <td>5</td>\n",
              "      <td>5</td>\n",
              "      <td>6</td>\n",
              "      <td>2019</td>\n",
              "      <td>1</td>\n",
              "      <td>0</td>\n",
              "      <td>1</td>\n",
              "    </tr>\n",
              "    <tr>\n",
              "      <th>4</th>\n",
              "      <td>59.5</td>\n",
              "      <td>2</td>\n",
              "      <td>4</td>\n",
              "      <td>12</td>\n",
              "      <td>2019</td>\n",
              "      <td>4</td>\n",
              "      <td>0</td>\n",
              "      <td>1</td>\n",
              "    </tr>\n",
              "  </tbody>\n",
              "</table>\n",
              "</div>\n",
              "    <div class=\"colab-df-buttons\">\n",
              "\n",
              "  <div class=\"colab-df-container\">\n",
              "    <button class=\"colab-df-convert\" onclick=\"convertToInteractive('df-4b499f24-e86b-4255-ab92-81adc07fd370')\"\n",
              "            title=\"Convert this dataframe to an interactive table.\"\n",
              "            style=\"display:none;\">\n",
              "\n",
              "  <svg xmlns=\"http://www.w3.org/2000/svg\" height=\"24px\" viewBox=\"0 -960 960 960\">\n",
              "    <path d=\"M120-120v-720h720v720H120Zm60-500h600v-160H180v160Zm220 220h160v-160H400v160Zm0 220h160v-160H400v160ZM180-400h160v-160H180v160Zm440 0h160v-160H620v160ZM180-180h160v-160H180v160Zm440 0h160v-160H620v160Z\"/>\n",
              "  </svg>\n",
              "    </button>\n",
              "\n",
              "  <style>\n",
              "    .colab-df-container {\n",
              "      display:flex;\n",
              "      gap: 12px;\n",
              "    }\n",
              "\n",
              "    .colab-df-convert {\n",
              "      background-color: #E8F0FE;\n",
              "      border: none;\n",
              "      border-radius: 50%;\n",
              "      cursor: pointer;\n",
              "      display: none;\n",
              "      fill: #1967D2;\n",
              "      height: 32px;\n",
              "      padding: 0 0 0 0;\n",
              "      width: 32px;\n",
              "    }\n",
              "\n",
              "    .colab-df-convert:hover {\n",
              "      background-color: #E2EBFA;\n",
              "      box-shadow: 0px 1px 2px rgba(60, 64, 67, 0.3), 0px 1px 3px 1px rgba(60, 64, 67, 0.15);\n",
              "      fill: #174EA6;\n",
              "    }\n",
              "\n",
              "    .colab-df-buttons div {\n",
              "      margin-bottom: 4px;\n",
              "    }\n",
              "\n",
              "    [theme=dark] .colab-df-convert {\n",
              "      background-color: #3B4455;\n",
              "      fill: #D2E3FC;\n",
              "    }\n",
              "\n",
              "    [theme=dark] .colab-df-convert:hover {\n",
              "      background-color: #434B5C;\n",
              "      box-shadow: 0px 1px 3px 1px rgba(0, 0, 0, 0.15);\n",
              "      filter: drop-shadow(0px 1px 2px rgba(0, 0, 0, 0.3));\n",
              "      fill: #FFFFFF;\n",
              "    }\n",
              "  </style>\n",
              "\n",
              "    <script>\n",
              "      const buttonEl =\n",
              "        document.querySelector('#df-4b499f24-e86b-4255-ab92-81adc07fd370 button.colab-df-convert');\n",
              "      buttonEl.style.display =\n",
              "        google.colab.kernel.accessAllowed ? 'block' : 'none';\n",
              "\n",
              "      async function convertToInteractive(key) {\n",
              "        const element = document.querySelector('#df-4b499f24-e86b-4255-ab92-81adc07fd370');\n",
              "        const dataTable =\n",
              "          await google.colab.kernel.invokeFunction('convertToInteractive',\n",
              "                                                    [key], {});\n",
              "        if (!dataTable) return;\n",
              "\n",
              "        const docLinkHtml = 'Like what you see? Visit the ' +\n",
              "          '<a target=\"_blank\" href=https://colab.research.google.com/notebooks/data_table.ipynb>data table notebook</a>'\n",
              "          + ' to learn more about interactive tables.';\n",
              "        element.innerHTML = '';\n",
              "        dataTable['output_type'] = 'display_data';\n",
              "        await google.colab.output.renderOutput(dataTable, element);\n",
              "        const docLink = document.createElement('div');\n",
              "        docLink.innerHTML = docLinkHtml;\n",
              "        element.appendChild(docLink);\n",
              "      }\n",
              "    </script>\n",
              "  </div>\n",
              "\n",
              "\n",
              "<div id=\"df-769823b2-e8f3-4e2d-b7c8-57aefa08c249\">\n",
              "  <button class=\"colab-df-quickchart\" onclick=\"quickchart('df-769823b2-e8f3-4e2d-b7c8-57aefa08c249')\"\n",
              "            title=\"Suggest charts.\"\n",
              "            style=\"display:none;\">\n",
              "\n",
              "<svg xmlns=\"http://www.w3.org/2000/svg\" height=\"24px\"viewBox=\"0 0 24 24\"\n",
              "     width=\"24px\">\n",
              "    <g>\n",
              "        <path d=\"M19 3H5c-1.1 0-2 .9-2 2v14c0 1.1.9 2 2 2h14c1.1 0 2-.9 2-2V5c0-1.1-.9-2-2-2zM9 17H7v-7h2v7zm4 0h-2V7h2v10zm4 0h-2v-4h2v4z\"/>\n",
              "    </g>\n",
              "</svg>\n",
              "  </button>\n",
              "\n",
              "<style>\n",
              "  .colab-df-quickchart {\n",
              "      --bg-color: #E8F0FE;\n",
              "      --fill-color: #1967D2;\n",
              "      --hover-bg-color: #E2EBFA;\n",
              "      --hover-fill-color: #174EA6;\n",
              "      --disabled-fill-color: #AAA;\n",
              "      --disabled-bg-color: #DDD;\n",
              "  }\n",
              "\n",
              "  [theme=dark] .colab-df-quickchart {\n",
              "      --bg-color: #3B4455;\n",
              "      --fill-color: #D2E3FC;\n",
              "      --hover-bg-color: #434B5C;\n",
              "      --hover-fill-color: #FFFFFF;\n",
              "      --disabled-bg-color: #3B4455;\n",
              "      --disabled-fill-color: #666;\n",
              "  }\n",
              "\n",
              "  .colab-df-quickchart {\n",
              "    background-color: var(--bg-color);\n",
              "    border: none;\n",
              "    border-radius: 50%;\n",
              "    cursor: pointer;\n",
              "    display: none;\n",
              "    fill: var(--fill-color);\n",
              "    height: 32px;\n",
              "    padding: 0;\n",
              "    width: 32px;\n",
              "  }\n",
              "\n",
              "  .colab-df-quickchart:hover {\n",
              "    background-color: var(--hover-bg-color);\n",
              "    box-shadow: 0 1px 2px rgba(60, 64, 67, 0.3), 0 1px 3px 1px rgba(60, 64, 67, 0.15);\n",
              "    fill: var(--button-hover-fill-color);\n",
              "  }\n",
              "\n",
              "  .colab-df-quickchart-complete:disabled,\n",
              "  .colab-df-quickchart-complete:disabled:hover {\n",
              "    background-color: var(--disabled-bg-color);\n",
              "    fill: var(--disabled-fill-color);\n",
              "    box-shadow: none;\n",
              "  }\n",
              "\n",
              "  .colab-df-spinner {\n",
              "    border: 2px solid var(--fill-color);\n",
              "    border-color: transparent;\n",
              "    border-bottom-color: var(--fill-color);\n",
              "    animation:\n",
              "      spin 1s steps(1) infinite;\n",
              "  }\n",
              "\n",
              "  @keyframes spin {\n",
              "    0% {\n",
              "      border-color: transparent;\n",
              "      border-bottom-color: var(--fill-color);\n",
              "      border-left-color: var(--fill-color);\n",
              "    }\n",
              "    20% {\n",
              "      border-color: transparent;\n",
              "      border-left-color: var(--fill-color);\n",
              "      border-top-color: var(--fill-color);\n",
              "    }\n",
              "    30% {\n",
              "      border-color: transparent;\n",
              "      border-left-color: var(--fill-color);\n",
              "      border-top-color: var(--fill-color);\n",
              "      border-right-color: var(--fill-color);\n",
              "    }\n",
              "    40% {\n",
              "      border-color: transparent;\n",
              "      border-right-color: var(--fill-color);\n",
              "      border-top-color: var(--fill-color);\n",
              "    }\n",
              "    60% {\n",
              "      border-color: transparent;\n",
              "      border-right-color: var(--fill-color);\n",
              "    }\n",
              "    80% {\n",
              "      border-color: transparent;\n",
              "      border-right-color: var(--fill-color);\n",
              "      border-bottom-color: var(--fill-color);\n",
              "    }\n",
              "    90% {\n",
              "      border-color: transparent;\n",
              "      border-bottom-color: var(--fill-color);\n",
              "    }\n",
              "  }\n",
              "</style>\n",
              "\n",
              "  <script>\n",
              "    async function quickchart(key) {\n",
              "      const quickchartButtonEl =\n",
              "        document.querySelector('#' + key + ' button');\n",
              "      quickchartButtonEl.disabled = true;  // To prevent multiple clicks.\n",
              "      quickchartButtonEl.classList.add('colab-df-spinner');\n",
              "      try {\n",
              "        const charts = await google.colab.kernel.invokeFunction(\n",
              "            'suggestCharts', [key], {});\n",
              "      } catch (error) {\n",
              "        console.error('Error during call to suggestCharts:', error);\n",
              "      }\n",
              "      quickchartButtonEl.classList.remove('colab-df-spinner');\n",
              "      quickchartButtonEl.classList.add('colab-df-quickchart-complete');\n",
              "    }\n",
              "    (() => {\n",
              "      let quickchartButtonEl =\n",
              "        document.querySelector('#df-769823b2-e8f3-4e2d-b7c8-57aefa08c249 button');\n",
              "      quickchartButtonEl.style.display =\n",
              "        google.colab.kernel.accessAllowed ? 'block' : 'none';\n",
              "    })();\n",
              "  </script>\n",
              "</div>\n",
              "    </div>\n",
              "  </div>\n"
            ]
          },
          "metadata": {},
          "execution_count": 46
        }
      ]
    },
    {
      "cell_type": "markdown",
      "source": [
        "#### **Data Scaling (Normalization)**"
      ],
      "metadata": {
        "id": "JKWlSpLTtd1x"
      }
    },
    {
      "cell_type": "code",
      "source": [
        "data2.columns"
      ],
      "metadata": {
        "colab": {
          "base_uri": "https://localhost:8080/"
        },
        "id": "XcLem1Yy4L43",
        "outputId": "eeb8c55b-d9d4-4a04-c76b-5e4a860da4e3"
      },
      "execution_count": 47,
      "outputs": [
        {
          "output_type": "execute_result",
          "data": {
            "text/plain": [
              "Index(['Age', 'EaseofUse', 'Effectiveness', 'Sex', 'UsefulCount', 'Year',\n",
              "       'Sideeffect'],\n",
              "      dtype='object')"
            ]
          },
          "metadata": {},
          "execution_count": 47
        }
      ]
    },
    {
      "cell_type": "code",
      "source": [
        "from sklearn.preprocessing import StandardScaler\n",
        "\n",
        "# Select the numerical columns that need to be normalized\n",
        "numerical_columns = ['Age', 'EaseofUse', 'Effectiveness', 'UsefulCount']\n",
        "\n",
        "# Initialize the StandardScaler\n",
        "scaler = StandardScaler()\n",
        "\n",
        "# Normalize the selected numerical columns\n",
        "data3[numerical_columns] = scaler.fit_transform(data3[numerical_columns])"
      ],
      "metadata": {
        "id": "NUbVEYkSsdwF"
      },
      "execution_count": 48,
      "outputs": []
    },
    {
      "cell_type": "code",
      "source": [
        "data3.head()"
      ],
      "metadata": {
        "colab": {
          "base_uri": "https://localhost:8080/",
          "height": 206
        },
        "id": "UAGNYWBC44lO",
        "outputId": "e2b3cce1-8ed3-45b5-a4c3-ecdaf19fa6e1"
      },
      "execution_count": 49,
      "outputs": [
        {
          "output_type": "execute_result",
          "data": {
            "text/plain": [
              "        Age  EaseofUse  Effectiveness  UsefulCount  Year  Sideeffect  \\\n",
              "0 -1.152546   0.788833       1.184087     0.971832  2020           1   \n",
              "1  1.695325   0.788833       0.457709    -0.502970  2020           2   \n",
              "2  0.289414   0.013619       1.184087    -0.502970  2020           2   \n",
              "3  1.010394   0.788833       1.184087    -0.100751  2019           1   \n",
              "4  0.289414  -1.536808       0.457709     0.703687  2019           4   \n",
              "\n",
              "   Sex_Female  Sex_Male  \n",
              "0           1         0  \n",
              "1           1         0  \n",
              "2           0         1  \n",
              "3           0         1  \n",
              "4           0         1  "
            ],
            "text/html": [
              "\n",
              "  <div id=\"df-af5d7d0e-ed6c-4ae0-ba1d-0821f6a88244\" class=\"colab-df-container\">\n",
              "    <div>\n",
              "<style scoped>\n",
              "    .dataframe tbody tr th:only-of-type {\n",
              "        vertical-align: middle;\n",
              "    }\n",
              "\n",
              "    .dataframe tbody tr th {\n",
              "        vertical-align: top;\n",
              "    }\n",
              "\n",
              "    .dataframe thead th {\n",
              "        text-align: right;\n",
              "    }\n",
              "</style>\n",
              "<table border=\"1\" class=\"dataframe\">\n",
              "  <thead>\n",
              "    <tr style=\"text-align: right;\">\n",
              "      <th></th>\n",
              "      <th>Age</th>\n",
              "      <th>EaseofUse</th>\n",
              "      <th>Effectiveness</th>\n",
              "      <th>UsefulCount</th>\n",
              "      <th>Year</th>\n",
              "      <th>Sideeffect</th>\n",
              "      <th>Sex_Female</th>\n",
              "      <th>Sex_Male</th>\n",
              "    </tr>\n",
              "  </thead>\n",
              "  <tbody>\n",
              "    <tr>\n",
              "      <th>0</th>\n",
              "      <td>-1.152546</td>\n",
              "      <td>0.788833</td>\n",
              "      <td>1.184087</td>\n",
              "      <td>0.971832</td>\n",
              "      <td>2020</td>\n",
              "      <td>1</td>\n",
              "      <td>1</td>\n",
              "      <td>0</td>\n",
              "    </tr>\n",
              "    <tr>\n",
              "      <th>1</th>\n",
              "      <td>1.695325</td>\n",
              "      <td>0.788833</td>\n",
              "      <td>0.457709</td>\n",
              "      <td>-0.502970</td>\n",
              "      <td>2020</td>\n",
              "      <td>2</td>\n",
              "      <td>1</td>\n",
              "      <td>0</td>\n",
              "    </tr>\n",
              "    <tr>\n",
              "      <th>2</th>\n",
              "      <td>0.289414</td>\n",
              "      <td>0.013619</td>\n",
              "      <td>1.184087</td>\n",
              "      <td>-0.502970</td>\n",
              "      <td>2020</td>\n",
              "      <td>2</td>\n",
              "      <td>0</td>\n",
              "      <td>1</td>\n",
              "    </tr>\n",
              "    <tr>\n",
              "      <th>3</th>\n",
              "      <td>1.010394</td>\n",
              "      <td>0.788833</td>\n",
              "      <td>1.184087</td>\n",
              "      <td>-0.100751</td>\n",
              "      <td>2019</td>\n",
              "      <td>1</td>\n",
              "      <td>0</td>\n",
              "      <td>1</td>\n",
              "    </tr>\n",
              "    <tr>\n",
              "      <th>4</th>\n",
              "      <td>0.289414</td>\n",
              "      <td>-1.536808</td>\n",
              "      <td>0.457709</td>\n",
              "      <td>0.703687</td>\n",
              "      <td>2019</td>\n",
              "      <td>4</td>\n",
              "      <td>0</td>\n",
              "      <td>1</td>\n",
              "    </tr>\n",
              "  </tbody>\n",
              "</table>\n",
              "</div>\n",
              "    <div class=\"colab-df-buttons\">\n",
              "\n",
              "  <div class=\"colab-df-container\">\n",
              "    <button class=\"colab-df-convert\" onclick=\"convertToInteractive('df-af5d7d0e-ed6c-4ae0-ba1d-0821f6a88244')\"\n",
              "            title=\"Convert this dataframe to an interactive table.\"\n",
              "            style=\"display:none;\">\n",
              "\n",
              "  <svg xmlns=\"http://www.w3.org/2000/svg\" height=\"24px\" viewBox=\"0 -960 960 960\">\n",
              "    <path d=\"M120-120v-720h720v720H120Zm60-500h600v-160H180v160Zm220 220h160v-160H400v160Zm0 220h160v-160H400v160ZM180-400h160v-160H180v160Zm440 0h160v-160H620v160ZM180-180h160v-160H180v160Zm440 0h160v-160H620v160Z\"/>\n",
              "  </svg>\n",
              "    </button>\n",
              "\n",
              "  <style>\n",
              "    .colab-df-container {\n",
              "      display:flex;\n",
              "      gap: 12px;\n",
              "    }\n",
              "\n",
              "    .colab-df-convert {\n",
              "      background-color: #E8F0FE;\n",
              "      border: none;\n",
              "      border-radius: 50%;\n",
              "      cursor: pointer;\n",
              "      display: none;\n",
              "      fill: #1967D2;\n",
              "      height: 32px;\n",
              "      padding: 0 0 0 0;\n",
              "      width: 32px;\n",
              "    }\n",
              "\n",
              "    .colab-df-convert:hover {\n",
              "      background-color: #E2EBFA;\n",
              "      box-shadow: 0px 1px 2px rgba(60, 64, 67, 0.3), 0px 1px 3px 1px rgba(60, 64, 67, 0.15);\n",
              "      fill: #174EA6;\n",
              "    }\n",
              "\n",
              "    .colab-df-buttons div {\n",
              "      margin-bottom: 4px;\n",
              "    }\n",
              "\n",
              "    [theme=dark] .colab-df-convert {\n",
              "      background-color: #3B4455;\n",
              "      fill: #D2E3FC;\n",
              "    }\n",
              "\n",
              "    [theme=dark] .colab-df-convert:hover {\n",
              "      background-color: #434B5C;\n",
              "      box-shadow: 0px 1px 3px 1px rgba(0, 0, 0, 0.15);\n",
              "      filter: drop-shadow(0px 1px 2px rgba(0, 0, 0, 0.3));\n",
              "      fill: #FFFFFF;\n",
              "    }\n",
              "  </style>\n",
              "\n",
              "    <script>\n",
              "      const buttonEl =\n",
              "        document.querySelector('#df-af5d7d0e-ed6c-4ae0-ba1d-0821f6a88244 button.colab-df-convert');\n",
              "      buttonEl.style.display =\n",
              "        google.colab.kernel.accessAllowed ? 'block' : 'none';\n",
              "\n",
              "      async function convertToInteractive(key) {\n",
              "        const element = document.querySelector('#df-af5d7d0e-ed6c-4ae0-ba1d-0821f6a88244');\n",
              "        const dataTable =\n",
              "          await google.colab.kernel.invokeFunction('convertToInteractive',\n",
              "                                                    [key], {});\n",
              "        if (!dataTable) return;\n",
              "\n",
              "        const docLinkHtml = 'Like what you see? Visit the ' +\n",
              "          '<a target=\"_blank\" href=https://colab.research.google.com/notebooks/data_table.ipynb>data table notebook</a>'\n",
              "          + ' to learn more about interactive tables.';\n",
              "        element.innerHTML = '';\n",
              "        dataTable['output_type'] = 'display_data';\n",
              "        await google.colab.output.renderOutput(dataTable, element);\n",
              "        const docLink = document.createElement('div');\n",
              "        docLink.innerHTML = docLinkHtml;\n",
              "        element.appendChild(docLink);\n",
              "      }\n",
              "    </script>\n",
              "  </div>\n",
              "\n",
              "\n",
              "<div id=\"df-700ba7b3-ec3e-4b56-8454-fc1b82d40b32\">\n",
              "  <button class=\"colab-df-quickchart\" onclick=\"quickchart('df-700ba7b3-ec3e-4b56-8454-fc1b82d40b32')\"\n",
              "            title=\"Suggest charts.\"\n",
              "            style=\"display:none;\">\n",
              "\n",
              "<svg xmlns=\"http://www.w3.org/2000/svg\" height=\"24px\"viewBox=\"0 0 24 24\"\n",
              "     width=\"24px\">\n",
              "    <g>\n",
              "        <path d=\"M19 3H5c-1.1 0-2 .9-2 2v14c0 1.1.9 2 2 2h14c1.1 0 2-.9 2-2V5c0-1.1-.9-2-2-2zM9 17H7v-7h2v7zm4 0h-2V7h2v10zm4 0h-2v-4h2v4z\"/>\n",
              "    </g>\n",
              "</svg>\n",
              "  </button>\n",
              "\n",
              "<style>\n",
              "  .colab-df-quickchart {\n",
              "      --bg-color: #E8F0FE;\n",
              "      --fill-color: #1967D2;\n",
              "      --hover-bg-color: #E2EBFA;\n",
              "      --hover-fill-color: #174EA6;\n",
              "      --disabled-fill-color: #AAA;\n",
              "      --disabled-bg-color: #DDD;\n",
              "  }\n",
              "\n",
              "  [theme=dark] .colab-df-quickchart {\n",
              "      --bg-color: #3B4455;\n",
              "      --fill-color: #D2E3FC;\n",
              "      --hover-bg-color: #434B5C;\n",
              "      --hover-fill-color: #FFFFFF;\n",
              "      --disabled-bg-color: #3B4455;\n",
              "      --disabled-fill-color: #666;\n",
              "  }\n",
              "\n",
              "  .colab-df-quickchart {\n",
              "    background-color: var(--bg-color);\n",
              "    border: none;\n",
              "    border-radius: 50%;\n",
              "    cursor: pointer;\n",
              "    display: none;\n",
              "    fill: var(--fill-color);\n",
              "    height: 32px;\n",
              "    padding: 0;\n",
              "    width: 32px;\n",
              "  }\n",
              "\n",
              "  .colab-df-quickchart:hover {\n",
              "    background-color: var(--hover-bg-color);\n",
              "    box-shadow: 0 1px 2px rgba(60, 64, 67, 0.3), 0 1px 3px 1px rgba(60, 64, 67, 0.15);\n",
              "    fill: var(--button-hover-fill-color);\n",
              "  }\n",
              "\n",
              "  .colab-df-quickchart-complete:disabled,\n",
              "  .colab-df-quickchart-complete:disabled:hover {\n",
              "    background-color: var(--disabled-bg-color);\n",
              "    fill: var(--disabled-fill-color);\n",
              "    box-shadow: none;\n",
              "  }\n",
              "\n",
              "  .colab-df-spinner {\n",
              "    border: 2px solid var(--fill-color);\n",
              "    border-color: transparent;\n",
              "    border-bottom-color: var(--fill-color);\n",
              "    animation:\n",
              "      spin 1s steps(1) infinite;\n",
              "  }\n",
              "\n",
              "  @keyframes spin {\n",
              "    0% {\n",
              "      border-color: transparent;\n",
              "      border-bottom-color: var(--fill-color);\n",
              "      border-left-color: var(--fill-color);\n",
              "    }\n",
              "    20% {\n",
              "      border-color: transparent;\n",
              "      border-left-color: var(--fill-color);\n",
              "      border-top-color: var(--fill-color);\n",
              "    }\n",
              "    30% {\n",
              "      border-color: transparent;\n",
              "      border-left-color: var(--fill-color);\n",
              "      border-top-color: var(--fill-color);\n",
              "      border-right-color: var(--fill-color);\n",
              "    }\n",
              "    40% {\n",
              "      border-color: transparent;\n",
              "      border-right-color: var(--fill-color);\n",
              "      border-top-color: var(--fill-color);\n",
              "    }\n",
              "    60% {\n",
              "      border-color: transparent;\n",
              "      border-right-color: var(--fill-color);\n",
              "    }\n",
              "    80% {\n",
              "      border-color: transparent;\n",
              "      border-right-color: var(--fill-color);\n",
              "      border-bottom-color: var(--fill-color);\n",
              "    }\n",
              "    90% {\n",
              "      border-color: transparent;\n",
              "      border-bottom-color: var(--fill-color);\n",
              "    }\n",
              "  }\n",
              "</style>\n",
              "\n",
              "  <script>\n",
              "    async function quickchart(key) {\n",
              "      const quickchartButtonEl =\n",
              "        document.querySelector('#' + key + ' button');\n",
              "      quickchartButtonEl.disabled = true;  // To prevent multiple clicks.\n",
              "      quickchartButtonEl.classList.add('colab-df-spinner');\n",
              "      try {\n",
              "        const charts = await google.colab.kernel.invokeFunction(\n",
              "            'suggestCharts', [key], {});\n",
              "      } catch (error) {\n",
              "        console.error('Error during call to suggestCharts:', error);\n",
              "      }\n",
              "      quickchartButtonEl.classList.remove('colab-df-spinner');\n",
              "      quickchartButtonEl.classList.add('colab-df-quickchart-complete');\n",
              "    }\n",
              "    (() => {\n",
              "      let quickchartButtonEl =\n",
              "        document.querySelector('#df-700ba7b3-ec3e-4b56-8454-fc1b82d40b32 button');\n",
              "      quickchartButtonEl.style.display =\n",
              "        google.colab.kernel.accessAllowed ? 'block' : 'none';\n",
              "    })();\n",
              "  </script>\n",
              "</div>\n",
              "    </div>\n",
              "  </div>\n"
            ]
          },
          "metadata": {},
          "execution_count": 49
        }
      ]
    },
    {
      "cell_type": "markdown",
      "source": [
        "## **Modelling**"
      ],
      "metadata": {
        "id": "-UXvz43BFW8J"
      }
    },
    {
      "cell_type": "code",
      "source": [
        "# 'Status' is the target variable\n",
        "x = data3.drop('Sideeffect', axis=1)\n",
        "y = data3['Sideeffect']"
      ],
      "metadata": {
        "id": "ovaojKQ85wzf"
      },
      "execution_count": 50,
      "outputs": []
    },
    {
      "cell_type": "code",
      "source": [
        "#splitting dataset into training and testing datasets\n",
        "from sklearn.model_selection import train_test_split\n",
        "x_train, x_test, y_train, y_test = train_test_split(x, y, test_size = 0.2, random_state = 42)"
      ],
      "metadata": {
        "id": "T5ZrrM6_F7E5"
      },
      "execution_count": 51,
      "outputs": []
    },
    {
      "cell_type": "markdown",
      "source": [
        "### **Logistic Regression**"
      ],
      "metadata": {
        "id": "UtSerqtAGI2r"
      }
    },
    {
      "cell_type": "code",
      "source": [
        "from sklearn.linear_model import LogisticRegression\n",
        "logic = LogisticRegression()"
      ],
      "metadata": {
        "id": "FQxmCZySGHJy"
      },
      "execution_count": 52,
      "outputs": []
    },
    {
      "cell_type": "code",
      "source": [
        "logic.fit(x_train, y_train)\n",
        "y_lr = logic.predict(x_test)\n",
        "\n",
        "print(accuracy_score(y_test, y_lr))\n",
        "print(confusion_matrix(y_test, y_lr))"
      ],
      "metadata": {
        "colab": {
          "base_uri": "https://localhost:8080/"
        },
        "id": "oaSWasvLGT9V",
        "outputId": "8ea7ee1e-4110-48b2-ae37-b92725c837f4"
      },
      "execution_count": 53,
      "outputs": [
        {
          "output_type": "stream",
          "name": "stdout",
          "text": [
            "0.6124121779859485\n",
            "[[285  29   9   0   8]\n",
            " [ 52 129  58   0  22]\n",
            " [ 36  38 110   1 101]\n",
            " [ 17  18  55   2 124]\n",
            " [ 38   4  47   5 520]]\n"
          ]
        }
      ]
    },
    {
      "cell_type": "markdown",
      "source": [
        "### **K Nearest Neighbor**"
      ],
      "metadata": {
        "id": "mdQt3bp6MiFe"
      }
    },
    {
      "cell_type": "code",
      "source": [
        "from sklearn.neighbors import KNeighborsClassifier\n",
        "knn = KNeighborsClassifier()"
      ],
      "metadata": {
        "id": "BviwqJYPGXmy"
      },
      "execution_count": 54,
      "outputs": []
    },
    {
      "cell_type": "code",
      "source": [
        "metric = []\n",
        "neighbors = np.arange(3,15)\n",
        "for k in neighbors:\n",
        "    classifier = KNeighborsClassifier(n_neighbors = k, metric = 'minkowski', p = 2)\n",
        "    classifier.fit(x_train, y_train)\n",
        "    y_pred_knn = classifier.predict(x_test)\n",
        "    acc = accuracy_score(y_test, y_pred_knn)\n",
        "    metric.append(acc)\n",
        "\n",
        "\n",
        "plt.plot(neighbors,metric,'o-')\n",
        "plt.xlabel('k value')\n",
        "plt.ylabel('accuracy')\n",
        "plt.grid()\n",
        "plt.show()"
      ],
      "metadata": {
        "colab": {
          "base_uri": "https://localhost:8080/",
          "height": 449
        },
        "id": "wN1YIPy0MnCT",
        "outputId": "4c2dd1de-0064-4f67-8704-c941e93df9f4"
      },
      "execution_count": 55,
      "outputs": [
        {
          "output_type": "display_data",
          "data": {
            "text/plain": [
              "<Figure size 640x480 with 1 Axes>"
            ],
            "image/png": "[encoded data removed]"
          },
          "metadata": {}
        }
      ]
    },
    {
      "cell_type": "markdown",
      "source": [
        "k = 5 has highest accuracy. So we take n_neighbors = 5 to build the model."
      ],
      "metadata": {
        "id": "4rJ_6BM4M0qU"
      }
    },
    {
      "cell_type": "code",
      "source": [
        "classifier = KNeighborsClassifier(n_neighbors = 5, metric = 'minkowski', p = 2)\n",
        "classifier.fit(x_train, y_train)\n",
        "y_knn = classifier.predict(x_test)\n",
        "\n",
        "print('Accuracy =', accuracy_score(y_test, y_knn))\n",
        "print(confusion_matrix(y_test, y_knn))"
      ],
      "metadata": {
        "colab": {
          "base_uri": "https://localhost:8080/"
        },
        "id": "UijtqyK0Ms_Y",
        "outputId": "c50ebc00-9cac-4522-fddc-1d14da5cb748"
      },
      "execution_count": 56,
      "outputs": [
        {
          "output_type": "stream",
          "name": "stdout",
          "text": [
            "Accuracy = 0.6375878220140515\n",
            "[[274  33  11   4   9]\n",
            " [ 47 172  26   9   7]\n",
            " [ 42  52 128  22  42]\n",
            " [ 29  43  33  48  63]\n",
            " [ 26  40  50  31 467]]\n"
          ]
        }
      ]
    },
    {
      "cell_type": "markdown",
      "source": [
        "### **Decision Tree**"
      ],
      "metadata": {
        "id": "o4SueeIPNOJG"
      }
    },
    {
      "cell_type": "code",
      "source": [
        "from sklearn.tree import DecisionTreeClassifier\n",
        "dt = DecisionTreeClassifier()"
      ],
      "metadata": {
        "id": "7mQDqF9ZNFXe"
      },
      "execution_count": 57,
      "outputs": []
    },
    {
      "cell_type": "code",
      "source": [
        "dt.fit(x_train, y_train)\n",
        "y_dt = dt.predict(x_test)\n",
        "\n",
        "print('Accuracy =', accuracy_score(y_test, y_dt))\n",
        "print(confusion_matrix(y_test, y_dt))"
      ],
      "metadata": {
        "colab": {
          "base_uri": "https://localhost:8080/"
        },
        "id": "2L_1Z3uQNRxC",
        "outputId": "6e040950-e10b-4b8a-c676-3294a51cc394"
      },
      "execution_count": 58,
      "outputs": [
        {
          "output_type": "stream",
          "name": "stdout",
          "text": [
            "Accuracy = 0.8079625292740047\n",
            "[[293  17   7   1  13]\n",
            " [ 34 201  18   4   4]\n",
            " [ 27  28 197  13  21]\n",
            " [ 12  16  23 143  22]\n",
            " [ 16  14  18  20 546]]\n"
          ]
        }
      ]
    },
    {
      "cell_type": "markdown",
      "source": [
        "### **Random Forest**"
      ],
      "metadata": {
        "id": "-t-50RQ-T6b8"
      }
    },
    {
      "cell_type": "code",
      "source": [
        "from sklearn.ensemble import RandomForestClassifier\n",
        "rf = RandomForestClassifier()"
      ],
      "metadata": {
        "id": "WD-fMULeNVoj"
      },
      "execution_count": 59,
      "outputs": []
    },
    {
      "cell_type": "code",
      "source": [
        "rf.fit(x_train, y_train)\n",
        "y_rf = dt.predict(x_test)\n",
        "\n",
        "print('Accuracy =', accuracy_score(y_test, y_rf))\n",
        "print(confusion_matrix(y_test, y_rf))"
      ],
      "metadata": {
        "colab": {
          "base_uri": "https://localhost:8080/"
        },
        "id": "7NWw7tb6T-vF",
        "outputId": "25647ffa-9d5b-46ab-a675-4fa1e735c836"
      },
      "execution_count": 60,
      "outputs": [
        {
          "output_type": "stream",
          "name": "stdout",
          "text": [
            "Accuracy = 0.8079625292740047\n",
            "[[293  17   7   1  13]\n",
            " [ 34 201  18   4   4]\n",
            " [ 27  28 197  13  21]\n",
            " [ 12  16  23 143  22]\n",
            " [ 16  14  18  20 546]]\n"
          ]
        }
      ]
    },
    {
      "cell_type": "markdown",
      "source": [
        "### **Bagging Classifier**"
      ],
      "metadata": {
        "id": "Pl1dhXGZWDHs"
      }
    },
    {
      "cell_type": "code",
      "source": [
        "from sklearn.ensemble import BaggingClassifier\n",
        "bag_clf = BaggingClassifier()"
      ],
      "metadata": {
        "id": "aJEp4fzKUR5V"
      },
      "execution_count": 61,
      "outputs": []
    },
    {
      "cell_type": "code",
      "source": [
        "bag_clf.fit(x_train, y_train)\n",
        "y_pred_bag = bag_clf.predict(x_test)\n",
        "\n",
        "print(accuracy_score(y_test, y_pred_bag))\n",
        "print(confusion_matrix(y_test, y_pred_bag))"
      ],
      "metadata": {
        "colab": {
          "base_uri": "https://localhost:8080/"
        },
        "id": "ADgq7eu1Vp4A",
        "outputId": "bf05cf03-5da5-4523-9bd0-9b03551fe0bd"
      },
      "execution_count": 62,
      "outputs": [
        {
          "output_type": "stream",
          "name": "stdout",
          "text": [
            "0.800351288056206\n",
            "[[283  23  12   1  12]\n",
            " [ 24 200  23   8   6]\n",
            " [ 26  28 192   7  33]\n",
            " [ 10  11  21 142  32]\n",
            " [ 13  13  20  18 550]]\n"
          ]
        }
      ]
    },
    {
      "cell_type": "markdown",
      "source": [
        "### **Gradient Boosting**"
      ],
      "metadata": {
        "id": "mmabY-87ch59"
      }
    },
    {
      "cell_type": "code",
      "source": [
        "from sklearn.ensemble import GradientBoostingClassifier\n",
        "gbc = GradientBoostingClassifier()"
      ],
      "metadata": {
        "id": "lgeTZPpYdpYw"
      },
      "execution_count": 63,
      "outputs": []
    },
    {
      "cell_type": "code",
      "source": [
        "gbc.fit(x_train, y_train)\n",
        "y_gbc = gbc.predict(x_test)\n",
        "\n",
        "print('Accuracy =', accuracy_score(y_test, y_gbc))\n",
        "print(confusion_matrix(y_test, y_gbc))"
      ],
      "metadata": {
        "colab": {
          "base_uri": "https://localhost:8080/"
        },
        "id": "58RcHy8MYbQu",
        "outputId": "3d60c4d5-8650-4e7b-fa56-0ca198e40b9f"
      },
      "execution_count": 64,
      "outputs": [
        {
          "output_type": "stream",
          "name": "stdout",
          "text": [
            "Accuracy = 0.6405152224824356\n",
            "[[273  37   9   3   9]\n",
            " [ 37 162  41   7  14]\n",
            " [ 33  41 128  22  62]\n",
            " [ 16  28  43  21 108]\n",
            " [ 32  15  36  21 510]]\n"
          ]
        }
      ]
    },
    {
      "cell_type": "markdown",
      "source": [
        "The decision tree model and random forest model have the highest accuracy among the models used with an accuracy of 80.79%. So hypertuning should be performed to find which model has the highest accuracy among these models."
      ],
      "metadata": {
        "id": "LcG7C38Nf5VN"
      }
    },
    {
      "cell_type": "markdown",
      "source": [
        "### **Hypertuning**"
      ],
      "metadata": {
        "id": "-4z1ZJFihLZ2"
      }
    },
    {
      "cell_type": "markdown",
      "source": [
        "#### **Hypertuning for decision tree**"
      ],
      "metadata": {
        "id": "oBupdipwhRRk"
      }
    },
    {
      "cell_type": "code",
      "source": [
        "# Import necessary libraries\n",
        "from sklearn.model_selection import RandomizedSearchCV\n",
        "import scipy.stats as stats\n",
        "\n",
        "# Define the hyperparameters and their distributions for Randomized Search\n",
        "param_dist = {\n",
        "    'criterion' : ['entropy', 'gini', 'log_loss'],\n",
        "    'max_features' : ['sqrt', 'auto', 'log2'],\n",
        "    'max_depth' : [int(i) for i in np.linspace(start = 10, stop = 1000, num = 10)],\n",
        "    'min_samples_split' : [2,5,10,14],\n",
        "    'min_samples_leaf' : [1,2,4,6,8]\n",
        "}\n",
        "\n",
        "# Create the Randomized Search object\n",
        "random_search = RandomizedSearchCV(\n",
        "    estimator = DecisionTreeClassifier(),\n",
        "    param_distributions = param_dist,\n",
        "    n_iter = 50,\n",
        "    scoring = 'accuracy',\n",
        "    cv = 3,\n",
        "    verbose = 0,\n",
        "    random_state = 42,\n",
        "    n_jobs = -1\n",
        ")\n",
        "\n",
        "# Fit the Randomized Search object to the training data\n",
        "random_search.fit(x_train, y_train)\n",
        "\n",
        "# Get the best model from the randomized search\n",
        "best_dt = random_search.best_estimator_\n",
        "\n",
        "# Predict using the best model on the test set\n",
        "y_pred_dt = best_dt.predict(x_test)\n",
        "\n",
        "# Print the accuracy and confusion matrix of the best model\n",
        "print(\"Accuracy after Fine-Tuning for decision tree model:\", accuracy_score(y_test, y_pred_dt))\n",
        "print(\"Confusion Matrix after Fine-Tuning:\")\n",
        "print(confusion_matrix(y_test, y_pred_dt))"
      ],
      "metadata": {
        "colab": {
          "base_uri": "https://localhost:8080/"
        },
        "id": "U-i7pBkRYvuT",
        "outputId": "e7c985de-1d32-4c1c-8639-df88abcf7e8e"
      },
      "execution_count": 65,
      "outputs": [
        {
          "output_type": "stream",
          "name": "stdout",
          "text": [
            "Accuracy after Fine-Tuning for decision tree model: 0.8138173302107728\n",
            "Confusion Matrix after Fine-Tuning:\n",
            "[[290  17   7   5  12]\n",
            " [ 34 200  16   4   7]\n",
            " [ 24  26 209   5  22]\n",
            " [ 12  17  18 142  27]\n",
            " [ 12  14  22  17 549]]\n"
          ]
        }
      ]
    },
    {
      "cell_type": "markdown",
      "source": [
        "#### **Hypertuning for random forest**"
      ],
      "metadata": {
        "id": "kGH0n90-47L4"
      }
    },
    {
      "cell_type": "code",
      "source": [
        "# Import necessary libraries\n",
        "from sklearn.model_selection import RandomizedSearchCV\n",
        "import scipy.stats as stats\n",
        "\n",
        "# Define the hyperparameters and their distributions for Randomized Search\n",
        "param_dist = {\n",
        "    'criterion' : ['entropy', 'gini', 'log_loss'],\n",
        "    'max_features' : ['sqrt', 'auto', 'log2'],\n",
        "    'max_depth' : [int(i) for i in np.linspace(start = 10, stop = 1000, num = 10)],\n",
        "    'min_samples_split' : [2,5,10,14],\n",
        "    'min_samples_leaf' : [1,2,4,6,8],\n",
        "    'n_estimators' : [int(i) for i in np.linspace(start = 200, stop = 2000, num = 20)]\n",
        "}\n",
        "\n",
        "# Create the Randomized Search object\n",
        "random_search = RandomizedSearchCV(\n",
        "    estimator = RandomForestClassifier(),\n",
        "    param_distributions = param_dist,\n",
        "    n_iter = 50,\n",
        "    scoring = 'accuracy',\n",
        "    cv = 3,\n",
        "    verbose = 0,\n",
        "    random_state = 42,\n",
        "    n_jobs = -1\n",
        ")\n",
        "\n",
        "# Fit the Randomized Search object to the training data\n",
        "random_search.fit(x_train, y_train)\n",
        "\n",
        "# Get the best model from the randomized search\n",
        "best_rf = random_search.best_estimator_\n",
        "\n",
        "# Predict using the best model on the test set\n",
        "y_pred_rf = best_rf.predict(x_test)\n",
        "\n",
        "# Print the accuracy and confusion matrix of the best model\n",
        "print(\"Accuracy after Fine-Tuning for random forest model:\", accuracy_score(y_test, y_pred_rf))\n",
        "print(\"Confusion Matrix after Fine-Tuning:\")\n",
        "print(confusion_matrix(y_test, y_pred_rf))"
      ],
      "metadata": {
        "colab": {
          "base_uri": "https://localhost:8080/"
        },
        "id": "4if8_0N446WB",
        "outputId": "476f2d6b-7048-486b-ca24-975df07a84ba"
      },
      "execution_count": 66,
      "outputs": [
        {
          "output_type": "stream",
          "name": "stdout",
          "text": [
            "Accuracy after Fine-Tuning for random forest model: 0.759367681498829\n",
            "Confusion Matrix after Fine-Tuning:\n",
            "[[283  24  11   1  12]\n",
            " [ 31 187  28   6   9]\n",
            " [ 27  28 175   8  48]\n",
            " [ 18  15  20 103  60]\n",
            " [ 16  15  25   9 549]]\n"
          ]
        }
      ]
    },
    {
      "cell_type": "markdown",
      "source": [
        "The accuracy of decision tree model has increased to 81.38% after hypertuning. After hypertuning, the accuracy of random forest model decreases. So, for finding the side effects of a particular drug, the decision tree model has been selected."
      ],
      "metadata": {
        "id": "OnDx5bVK88H3"
      }
    },
    {
      "cell_type": "code",
      "source": [
        "from sklearn.metrics import precision_score, recall_score, f1_score\n",
        "\n",
        "# Calculate metrics\n",
        "accuracy = accuracy_score(y_test, y_pred_dt)\n",
        "precision = precision_score(y_test, y_pred_dt, average='micro')\n",
        "recall = recall_score(y_test, y_pred_dt, average='micro')\n",
        "f1 = f1_score(y_test, y_pred_dt, average='micro')\n",
        "\n",
        "# Create a DataFrame to display the metrics\n",
        "metrics_dict = {\n",
        "    'Metric': ['Accuracy', 'Precision', 'Recall', 'F1-Score'],\n",
        "    'Value': [accuracy, precision, recall, f1]\n",
        "}\n",
        "\n",
        "metrics_df = pd.DataFrame(metrics_dict)\n",
        "\n",
        "# Display the metrics table\n",
        "print(metrics_df)"
      ],
      "metadata": {
        "id": "2rQundnh4tpJ",
        "colab": {
          "base_uri": "https://localhost:8080/"
        },
        "outputId": "aaa18c19-7b57-411d-f3c3-a9ef5c8454c0"
      },
      "execution_count": 67,
      "outputs": [
        {
          "metadata": {
            "tags": null
          },
          "name": "stdout",
          "output_type": "stream",
          "text": [
            "      Metric     Value\n",
            "0   Accuracy  0.813817\n",
            "1  Precision  0.813817\n",
            "2     Recall  0.813817\n",
            "3   F1-Score  0.813817\n"
          ]
        }
      ]
    },
    {
      "cell_type": "markdown",
      "source": [
        "These metrics provide a comprehensive view of the model's performance:\n",
        "\n",
        "- Accuracy: Measures overall correctness of predictions (81.38%).\n",
        "\n",
        "- Precision: High when positive predictions are correct (0.813).\n",
        "\n",
        "- Recall: Effectively identifies positive instances (0.813).\n",
        "\n",
        "- F1-Score: Balances precision and recall (0.813).\n",
        "\n",
        "\n",
        "These metrics show the model performs well with high accuracy, precision, recall, and F1-score, indicating its effectiveness in classifying instances."
      ],
      "metadata": {
        "id": "D079A3AdlGFB"
      }
    },
    {
      "cell_type": "code",
      "source": [],
      "metadata": {
        "id": "vaj1n3HryNhT"
      },
      "execution_count": 67,
      "outputs": []
    }
  ]
}